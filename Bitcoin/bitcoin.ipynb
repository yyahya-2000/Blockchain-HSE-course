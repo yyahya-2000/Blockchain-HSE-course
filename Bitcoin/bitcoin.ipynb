{
 "cells": [
  {
   "cell_type": "markdown",
   "id": "145f7589",
   "metadata": {},
   "source": [
    "# Yanal Yahya, software engineering, 197 group"
   ]
  },
  {
   "cell_type": "markdown",
   "id": "a641b35e",
   "metadata": {},
   "source": [
    "# HA 4"
   ]
  },
  {
   "cell_type": "markdown",
   "id": "441c32e0",
   "metadata": {},
   "source": [
    "### Pre-requisite:"
   ]
  },
  {
   "cell_type": "code",
   "execution_count": 3,
   "id": "3578b7a5",
   "metadata": {},
   "outputs": [
    {
     "name": "stdout",
     "output_type": "stream",
     "text": [
      "Defaulting to user installation because normal site-packages is not writeable\n",
      "Requirement already satisfied: base58 in /home/yanal/.local/lib/python3.10/site-packages (2.1.1)\n",
      "Requirement already satisfied: ecdsa in /home/yanal/.local/lib/python3.10/site-packages (0.18.0)\n",
      "Collecting prettytable\n",
      "  Downloading prettytable-3.5.0-py3-none-any.whl (26 kB)\n",
      "Collecting bitcoin==1.1.39\n",
      "  Downloading bitcoin-1.1.39.tar.gz (27 kB)\n",
      "  Preparing metadata (setup.py) ... \u001b[?25ldone\n",
      "\u001b[?25hRequirement already satisfied: six>=1.9.0 in /usr/lib/python3/dist-packages (from ecdsa) (1.16.0)\n",
      "Requirement already satisfied: wcwidth in /usr/lib/python3/dist-packages (from prettytable) (0.2.5)\n",
      "Building wheels for collected packages: bitcoin\n",
      "  Building wheel for bitcoin (setup.py) ... \u001b[?25ldone\n",
      "\u001b[?25h  Created wheel for bitcoin: filename=bitcoin-1.1.39-py3-none-any.whl size=28441 sha256=fe83334fb422f2e92f0e26d0097de7656b4a04c27fef221f4f884ecc53d6a0a4\n",
      "  Stored in directory: /home/yanal/.cache/pip/wheels/83/49/59/01dd3687ca261b46deea85b14c12280c451fc717089775a3ca\n",
      "Successfully built bitcoin\n",
      "Installing collected packages: bitcoin, prettytable\n",
      "Successfully installed bitcoin-1.1.39 prettytable-3.5.0\n"
     ]
    }
   ],
   "source": [
    "#!pip install base58 ecdsa prettytable bitcoin==1.1.39"
   ]
  },
  {
   "cell_type": "code",
   "execution_count": 1,
   "id": "35b184d0",
   "metadata": {},
   "outputs": [],
   "source": [
    "#Defining Libraries:\n",
    "import hashlib\n",
    "import base58\n",
    "import os\n",
    "import hashlib\n",
    "import ecdsa\n",
    "import binascii\n",
    "import bitcoin\n",
    "from ecdsa import SigningKey, SECP256k1\n",
    "from prettytable import PrettyTable"
   ]
  },
  {
   "cell_type": "code",
   "execution_count": 2,
   "id": "ad4bc863",
   "metadata": {},
   "outputs": [],
   "source": [
    "#Defining Function For Hashing: 1. Sha256 and 2. Ripemd160\n",
    "def hashing(a):\n",
    "    first_sha256 = hashlib.sha256(a)\n",
    "    ripemd160 = hashlib.new(\"ripemd160\")\n",
    "    ripemd160.update(first_sha256.digest())\n",
    "    return_0 = ripemd160.digest()\n",
    "    return_1 = bytes.fromhex(\"00\") + ripemd160.digest()\n",
    "    return_2 = bytes.fromhex(\"6f\") + ripemd160.digest()\n",
    "    return return_0, return_1, return_2\n",
    "\n",
    "def public_to_test(a):\n",
    "    decoded_address = base58.b58decode(scriptaddress)\n",
    "    address_1 = decoded_address[1:-4]\n",
    "    hex_address = bytes.fromhex(\"C4\") + address_1\n",
    "    checksum_test_multsig = checksum(hex_address)\n",
    "    test_address = to_base58(checksum_test_multsig)\n",
    "    return test_address\n",
    "\n",
    "#Function for Checksum\n",
    "def checksum(b):\n",
    "    checksum_full = hashlib.sha256(hashlib.sha256(b).digest()).digest()\n",
    "    new_checksum = checksum_full[:4]\n",
    "    return b + new_checksum\n",
    "\n",
    "#Function to convert to base58    \n",
    "def to_base58(c):\n",
    "    return base58.b58encode(c).decode('utf-8')\n",
    "\n",
    "def compressed_key(d):\n",
    "    a = d.hex()\n",
    "\n",
    "    if a[-1] == '0' or a[-1] == '2' or a[-1] == '4' or a[-1] == '6' or a[-1] == '8' or a[-1] == 'a' or a[-1] == 'c' or a[-1] == 'e':\n",
    "        return bytes.fromhex(\"02\") + d\n",
    "    \n",
    "    else:\n",
    "        return bytes.fromhex(\"03\") + d\n",
    "    \n",
    "def generate_address(print_output = True):\n",
    "    \n",
    "    #generating Random number of 32 bytes\n",
    "    private_key = os.urandom(32).hex()\n",
    "    private_key_from_hex = bytes.fromhex(private_key)\n",
    "\n",
    "    #Keeping same private key, Generating Public Key\n",
    "    import ecdsa # pip install ecdsa\n",
    "    sk = ecdsa.SigningKey.from_string(private_key_from_hex, curve = ecdsa.SECP256k1) \n",
    "\n",
    "\n",
    "    #actual publickey to verify messages that singed using own pvt key\n",
    "    verification_key = sk.verifying_key\n",
    "    #making Public Key:\n",
    "    public_key = bytes.fromhex(\"04\") + verification_key.to_string()\n",
    "    compressed_public_key = compressed_key(verification_key.to_string())\n",
    "    compressed_public_key_hex = compressed_public_key.hex()[:66]\n",
    "    #Converting public key to address:\n",
    "    decoded_pubkey, mainnet_pubkey, testnet_pubkey = hashing(public_key)\n",
    "\n",
    "    #DECODED PUBLIC KEY WILL BE REQUIRED\n",
    "    #checksum:\n",
    "    checksum_main_pubkey = checksum(mainnet_pubkey)\n",
    "    checksum_test_pubkey = checksum(testnet_pubkey)\n",
    "\n",
    "\n",
    "    main_address = to_base58(checksum_main_pubkey)\n",
    "    test_address = to_base58(checksum_test_pubkey)\n",
    "\n",
    "\n",
    "    if print_output:\n",
    "        x = PrettyTable()\n",
    "        x.field_names = [\"Discription\", \"Value\"]\n",
    "        x.add_row([\"Private Key, hex\", private_key])\n",
    "        x.add_row([\"Public Key, hex\", public_key.hex()])\n",
    "        x.add_row([\"Compressed Public Key, hex\", compressed_public_key_hex])\n",
    "        x.add_row([\"MainNet Address, base58\", main_address])\n",
    "        x.add_row([\"Testnet Address, base58\", test_address])\n",
    "        print(x)\n",
    "    return(private_key, public_key.hex(), compressed_public_key_hex, main_address, test_address)"
   ]
  },
  {
   "cell_type": "markdown",
   "id": "5c009a7e",
   "metadata": {},
   "source": [
    "1. Generate 3 testnet addresses (address_1, address_2, address_3; should\n",
    "start with either m or n)"
   ]
  },
  {
   "cell_type": "code",
   "execution_count": 3,
   "id": "5e2c3d1b",
   "metadata": {},
   "outputs": [
    {
     "name": "stdout",
     "output_type": "stream",
     "text": [
      "\n",
      "===============================\n",
      "First address data\n",
      "================================\n",
      "+----------------------------+------------------------------------------------------------------------------------------------------------------------------------+\n",
      "|        Discription         |                                                               Value                                                                |\n",
      "+----------------------------+------------------------------------------------------------------------------------------------------------------------------------+\n",
      "|      Private Key, hex      |                                  1171ff0a9299d180f3dcc00fb981f7f251629f54363678d7a731b737516fa09b                                  |\n",
      "|      Public Key, hex       | 04fac05cd2ccbc2a8fed4205bb164da54a887d67e496bf362030ab5f0ead75130656a1e8e7ba98cc72fff7efcbe53cb6b484bec6c38874be86e6790ca74f61bb84 |\n",
      "| Compressed Public Key, hex |                                 02fac05cd2ccbc2a8fed4205bb164da54a887d67e496bf362030ab5f0ead751306                                 |\n",
      "|  MainNet Address, base58   |                                                 138JtUecQUeq1mqJLY7h7ng92vEerz6tjL                                                 |\n",
      "|  Testnet Address, base58   |                                                 mheGBXjbDW65ntJv4764whtTtuqMja3NKc                                                 |\n",
      "+----------------------------+------------------------------------------------------------------------------------------------------------------------------------+\n",
      "\n",
      "===============================\n",
      "Second address data\n",
      "================================\n",
      "+----------------------------+------------------------------------------------------------------------------------------------------------------------------------+\n",
      "|        Discription         |                                                               Value                                                                |\n",
      "+----------------------------+------------------------------------------------------------------------------------------------------------------------------------+\n",
      "|      Private Key, hex      |                                  0ec1a1909a91214a0f3bc631e8336751773f304d7b000530c0f8e9a6c459cfa4                                  |\n",
      "|      Public Key, hex       | 04c15123e00223c2b8cfb0058531d11efb304fafce6f5bfc8f60dbbf4d878466db3038bf7ea363aaebea69b7f32e82a8800fbd38e7fc95a2d7569c441c8e6aefdf |\n",
      "| Compressed Public Key, hex |                                 03c15123e00223c2b8cfb0058531d11efb304fafce6f5bfc8f60dbbf4d878466db                                 |\n",
      "|  MainNet Address, base58   |                                                 1D1iTiQNrhvjzcYyWcdGEpSJhPwouLEKUb                                                 |\n",
      "|  Testnet Address, base58   |                                                 msXfkmVMfjMzmj2bEBbe4jedZPYWiUWq8b                                                 |\n",
      "+----------------------------+------------------------------------------------------------------------------------------------------------------------------------+\n",
      "\n",
      "===============================\n",
      "Third address data\n",
      "================================\n",
      "+----------------------------+------------------------------------------------------------------------------------------------------------------------------------+\n",
      "|        Discription         |                                                               Value                                                                |\n",
      "+----------------------------+------------------------------------------------------------------------------------------------------------------------------------+\n",
      "|      Private Key, hex      |                                  4f9762d7825adfc191adbc8014b507111b4c67c441a25b0528b9f2513b6008ae                                  |\n",
      "|      Public Key, hex       | 04d44f5e00c302729406d4ab56e5aa690489fb162d250566ac873c82dd2b5e012b69325af3778aaff5203f505ac9d869b473c51785ce7c5d8346f77b12ca7c774f |\n",
      "| Compressed Public Key, hex |                                 03d44f5e00c302729406d4ab56e5aa690489fb162d250566ac873c82dd2b5e012b                                 |\n",
      "|  MainNet Address, base58   |                                                 1Bi7KNADWdZsMPm8BaDGucNgSGLpCPLjMk                                                 |\n",
      "|  Testnet Address, base58   |                                                 mrE4cRFCKf188WEju9BejXb1JFwX7G5JPE                                                 |\n",
      "+----------------------------+------------------------------------------------------------------------------------------------------------------------------------+\n"
     ]
    }
   ],
   "source": [
    "print('''\n",
    "===============================\n",
    "First address data\n",
    "================================''')\n",
    "address_data_1 = generate_address()\n",
    "print('''\n",
    "===============================\n",
    "Second address data\n",
    "================================''')\n",
    "address_data_2 = generate_address()\n",
    "print('''\n",
    "===============================\n",
    "Third address data\n",
    "================================''')\n",
    "address_data_3 = generate_address()"
   ]
  },
  {
   "cell_type": "markdown",
   "id": "ba6c6bec",
   "metadata": {},
   "source": [
    "2. From prerequisite 1, generate 2-3 MultiSignature address (2 e.g.\n",
    "private_keys for {addess_1, address_2, address_3} out of three are\n",
    "required to spend Bitcoins). Note that your 2-3 MultiSignature address\n",
    "will start with 2."
   ]
  },
  {
   "cell_type": "code",
   "execution_count": 8,
   "id": "06a8c93c",
   "metadata": {
    "scrolled": true
   },
   "outputs": [
    {
     "name": "stdout",
     "output_type": "stream",
     "text": [
      "Generating MultiSig Address and Test Address M:N\n",
      "Enter N (Max), for example, 2: 3\n",
      "Enter M (Min), for example, 2: 2\n",
      "Enter 1 of 3 public key, for example, 049ea82ac663a76fb872d4a49674762c3f9e60e25d55f7636d76b03efef3d69e838ab749455d3951aa015ccac729ecd9d656e596686af6204534821699e779534b: 04fac05cd2ccbc2a8fed4205bb164da54a887d67e496bf362030ab5f0ead75130656a1e8e7ba98cc72fff7efcbe53cb6b484bec6c38874be86e6790ca74f61bb84\n",
      "Enter 2 of 3 public key, for example, 0409aa99ce4e7f6b23faf283b5eaab2f6233ac28cbb34cc083957441c5c760fc7b5da64c0975b9f6f8b14f52e1eee5be5750b5ce226b6690bde6438e51211f9ff2: 04c15123e00223c2b8cfb0058531d11efb304fafce6f5bfc8f60dbbf4d878466db3038bf7ea363aaebea69b7f32e82a8800fbd38e7fc95a2d7569c441c8e6aefdf\n",
      "Enter 3 of 3 public key, for example, 049ea82ac663a76fb872d4a49674762c3f9e60e25d55f7636d76b03efef3d69e838ab749455d3951aa015ccac729ecd9d656e596686af6204534821699e779534b: 04d44f5e00c302729406d4ab56e5aa690489fb162d250566ac873c82dd2b5e012b69325af3778aaff5203f505ac9d869b473c51785ce7c5d8346f77b12ca7c774f\n",
      "MultiSig Address:  3GQKKgJanKyQWKjLY7oiB3YwkX5hYFM1mE\n",
      "MultiSig Testnet Address:  2N7xXPREcPnUki7MtDFRanzYCxsHsK2i5N2\n",
      "\n",
      "Redeem Script: 524104fac05cd2ccbc2a8fed4205bb164da54a887d67e496bf362030ab5f0ead75130656a1e8e7ba98cc72fff7efcbe53cb6b484bec6c38874be86e6790ca74f61bb844104c15123e00223c2b8cfb0058531d11efb304fafce6f5bfc8f60dbbf4d878466db3038bf7ea363aaebea69b7f32e82a8800fbd38e7fc95a2d7569c441c8e6aefdf4104d44f5e00c302729406d4ab56e5aa690489fb162d250566ac873c82dd2b5e012b69325af3778aaff5203f505ac9d869b473c51785ce7c5d8346f77b12ca7c774f53ae\n"
     ]
    }
   ],
   "source": [
    "print(\"Generating MultiSig Address and Test Address M:N\")\n",
    "m = int(input(\"Enter N (Max), for example, 2: \"))\n",
    "n = int(input(\"Enter M (Min), for example, 2: \"))\n",
    "\n",
    "pub_keys = []\n",
    "for i in range(0,m):\n",
    "    if i == 1:\n",
    "        temp = input(\"Enter {} of {} public key, for example, 0409aa99ce4e7f6b23faf283b5eaab2f6233ac28cbb34cc083957441c5c760fc7b5da64c0975b9f6f8b14f52e1eee5be5750b5ce226b6690bde6438e51211f9ff2: \".format(i+1,m))\n",
    "    else:\n",
    "        temp = input(\"Enter {} of {} public key, for example, 049ea82ac663a76fb872d4a49674762c3f9e60e25d55f7636d76b03efef3d69e838ab749455d3951aa015ccac729ecd9d656e596686af6204534821699e779534b: \".format(i+1,m))\n",
    "    pub_keys.append(temp)\n",
    "    \n",
    "rawscript = bitcoin.mk_multisig_script(pub_keys,n)\n",
    "descript = bitcoin.deserialize_script(rawscript)\n",
    "scriptaddress = bitcoin.scriptaddr(rawscript)\n",
    "print(\"MultiSig Address: \", scriptaddress)\n",
    "\n",
    "testnet_address = public_to_test(scriptaddress)\n",
    "print(\"MultiSig Testnet Address: \", testnet_address)\n",
    "\n",
    "print(\"\\nRedeem Script:\", rawscript)"
   ]
  },
  {
   "cell_type": "markdown",
   "id": "8d117d14",
   "metadata": {},
   "source": [
    "### Tasks:"
   ]
  },
  {
   "cell_type": "markdown",
   "id": "6574c11a",
   "metadata": {},
   "source": [
    "### 1.\n",
    "(1 point) Calculate double Hash_256 of your name. Take two inputs from\n",
    "the user, i.e., first name and last name. Concatenate string and take\n",
    "SHA256(SHA256(<first name><lastname>)).\n"
   ]
  },
  {
   "cell_type": "code",
   "execution_count": 5,
   "id": "0a30fe14",
   "metadata": {},
   "outputs": [
    {
     "name": "stdout",
     "output_type": "stream",
     "text": [
      "Enter your first name, plz: Yanal\n",
      "Enter your last name, plz: Yahya\n"
     ]
    },
    {
     "data": {
      "text/plain": [
       "'5cbadfb70d3e24913f71658d51c6c1d04238d920dd6d78fbda971035c35e61ac'"
      ]
     },
     "execution_count": 5,
     "metadata": {},
     "output_type": "execute_result"
    }
   ],
   "source": [
    "firstName = input('Enter your first name, plz: ')\n",
    "lastName = input('Enter your last name, plz: ')\n",
    "fullName = firstName + ' ' + lastName\n",
    "\n",
    "hash1 = hashlib.sha256(fullName.encode('utf-8')).digest()\n",
    "doubleHashedFullName = hashlib.sha256(hash1).digest()\n",
    "doubleHashedFullName = str(binascii.hexlify(doubleHashedFullName),\"ascii\")\n",
    "doubleHashedFullName"
   ]
  },
  {
   "cell_type": "markdown",
   "id": "5e7cc597",
   "metadata": {},
   "source": [
    "---"
   ]
  },
  {
   "cell_type": "markdown",
   "id": "7cd65bdb",
   "metadata": {},
   "source": [
    "### 2.\n",
    "(1 point) Get some testnet Bitcoins to your testnet address_1 from any\n",
    "source. (For example: https://testnet-faucet.mempool.co/,\n",
    "https://coinfaucet.eu/en/btc-testnet/ or search \"bitcoin testnet\n",
    "faucet\"). Provide the Transaction_ID.\n"
   ]
  },
  {
   "cell_type": "markdown",
   "id": "917de8a6",
   "metadata": {},
   "source": [
    "$$Testnet Address 1, base58 = mheGBXjbDW65ntJv4764whtTtuqMja3NKc$$\n",
    "\n",
    "$$Transaction_{ID} = 26a4d1d4be59d20b5e609d438bb3beb852e8a776872fd5174e5f3826f2a6f641$$"
   ]
  },
  {
   "cell_type": "markdown",
   "id": "2e5fd2d9",
   "metadata": {},
   "source": [
    "---"
   ]
  },
  {
   "cell_type": "markdown",
   "id": "2b93bf83",
   "metadata": {},
   "source": [
    "### 3.\n",
    "(2 points) Create a new transaction from address_1 and provide\n",
    "Transaction_ID. Make 2 outputs:\n",
    "Output_1 : Some bitcoins to address_2.\n",
    "Output_2: Data transfer with first 4 Bytes double Hash_256 of your name.\n",
    "You send 0 bitcoins in this output.\n",
    "Note. Be aware of small transaction fees. You may find\n",
    "https://blockstream.info/testnet/tx/push useful.\n"
   ]
  },
  {
   "cell_type": "code",
   "execution_count": 18,
   "id": "f4173aee",
   "metadata": {},
   "outputs": [],
   "source": [
    "#Function\n",
    "def reverse(a):\n",
    "    i = 0\n",
    "    rev_a = []\n",
    "    while i != len(a):\n",
    "        temp_value = a[i] + a[i+1]\n",
    "        rev_a.append(temp_value)\n",
    "        i = i + 2\n",
    "    rev_a.reverse()\n",
    "    return ''.join(rev_a)\n",
    "\n",
    "def bitcoin_satoshi_rev_hex(btc):\n",
    "    temp = float(btc) * (10**8)\n",
    "    temp_1 = hex(int(temp))[2:]\n",
    "    temp_2 = reverse(str(temp_1).zfill(16))\n",
    "    return temp_2\n",
    "\n",
    "def bytes_padding(temp_no):\n",
    "    if len(temp_no)/2 != 0:\n",
    "        return '0' + temp_no\n",
    "    else:\n",
    "        return temp_no\n",
    "\n",
    "def tx_outputs():\n",
    "    receiver = input(\"Enter Receiver's Address {}, for example, mp7cUPuKFeR3tm7hMF6Y9PZX89iyHMK67E: \".format(1))\n",
    "    value = input(\"Enter Value in BTC (0.0) to send {}, for example, 0.009:\".format(receiver))\n",
    "    value_in_hex_NYB = bitcoin_satoshi_rev_hex(value)\n",
    "    receiver_address = base58.b58decode(receiver).hex()[2:-8]\n",
    "    size_receiver = hex(int(len(receiver_address)/2))[2:]\n",
    "    locking_Script = '76' + 'a9' + size_receiver + receiver_address + '88' + 'ac'\n",
    "    script_len_2 = hex(int(len(locking_Script)/2))[2:]\n",
    "    return value_in_hex_NYB + script_len_2 + locking_Script\n",
    "\n",
    "    \n",
    "    \n",
    "def op_return():\n",
    "    value_return = '0'*16\n",
    "    #data_1 = b\"charley loves heidi\"\n",
    "    data = input(\"Enter Data to send, for exampe, 'Hello': \")\n",
    "    text_from_bytes = binascii.b2a_hex(data.encode(\"utf-8\")).decode()\n",
    "    len_data = hex(int(len(text_from_bytes)/2))[2:]\n",
    "    partial_data =  '6a'+ bytes_padding(len_data) + text_from_bytes\n",
    "    return value_return + bytes_padding(hex(int(len(partial_data)/2))[2:]) + partial_data\n",
    "    \n",
    "def pushdata(len_r,len_s):\n",
    "    if len_r == '20' and len_s == '20':\n",
    "        return str(47)    \n",
    "    elif len_r == '20' or len_s == '21':\n",
    "        return str(48)\n",
    "    elif len_r == '21' or len_s == '20':\n",
    "        return str(48)\n",
    "    else:\n",
    "        return str(49)\n",
    "    \n",
    "def pubkey_opcode(a):\n",
    "    return hex(int(int(len(a))/2))[2:]"
   ]
  },
  {
   "cell_type": "code",
   "execution_count": 20,
   "id": "d4351817",
   "metadata": {},
   "outputs": [
    {
     "name": "stdout",
     "output_type": "stream",
     "text": [
      "Enter Previous user transaction, for example, 0454bef0e9a178b8f31667dc1cb6ba0fb708d4b745d19a8e3ef6de7b52b6108b: 26a4d1d4be59d20b5e609d438bb3beb852e8a776872fd5174e5f3826f2a6f641\n",
      "Enter previous output (here <= 15), for example, 1: 0\n",
      "Enter previous PKH, for example, 76a9145e4f04c3ee1941d665eb1312280ca3a0bbbfd3ba: 17521855b12000aa442289da3f173219819b581b\n",
      "Enter Receiver's Address 1, for example, mp7cUPuKFeR3tm7hMF6Y9PZX89iyHMK67E: msXfkmVMfjMzmj2bEBbe4jedZPYWiUWq8b\n",
      "Enter Value in BTC (0.0) to send msXfkmVMfjMzmj2bEBbe4jedZPYWiUWq8b, for example, 0.009:0.014\n",
      "Enter Data to send, for exampe, 'Hello': 5cbadfb7\n",
      "Raw transaction:  010000000141f6a6f226385f4e17d52f8776a7e852b8beb38b439d605e0bd259bed4d1a426000000001976a91417521855b12000aa442289da3f173219819b581b88acffffffff02c05c1500000000001976a91483c41e740086a521226a39a372f2ef4a4217e07588ac00000000000000000a6a0835636261646662370000000001000000\n",
      "Enter Private Key, for example, fbed793f3757d1fddf7d675ed64fa329b28943745b166cc94b30e46c09f778fc: 1171ff0a9299d180f3dcc00fb981f7f251629f54363678d7a731b737516fa09b\n",
      "\n",
      "\n",
      "Digital Signature:  304402206998fb5a12438d5b4f8aad9e687ce6a4bd0bbd1fab840aa05be918bbc85d4fcb0220151befa316ef6591825e0054a0775fd785dd2ee1480d8e995a40ef5d127fda87\n",
      "Enter Publickey (Compressed or Uncompressed), for example, 0409aa99ce4e7f6b23faf283b5eaab2f6233ac28cbb34cc083957441c5c760fc7b5da64c0975b9f6f8b14f52e1eee5be5750b5ce226b6690bde6438e51211f9ff2: 04fac05cd2ccbc2a8fed4205bb164da54a887d67e496bf362030ab5f0ead75130656a1e8e7ba98cc72fff7efcbe53cb6b484bec6c38874be86e6790ca74f61bb84\n",
      "\n",
      "SigScript(hex):  8a47304402206998fb5a12438d5b4f8aad9e687ce6a4bd0bbd1fab840aa05be918bbc85d4fcb0220151befa316ef6591825e0054a0775fd785dd2ee1480d8e995a40ef5d127fda87014104fac05cd2ccbc2a8fed4205bb164da54a887d67e496bf362030ab5f0ead75130656a1e8e7ba98cc72fff7efcbe53cb6b484bec6c38874be86e6790ca74f61bb84 \n",
      "\n",
      "\n",
      "\n",
      "Transaction to broadcast:  010000000141f6a6f226385f4e17d52f8776a7e852b8beb38b439d605e0bd259bed4d1a426000000008a47304402206998fb5a12438d5b4f8aad9e687ce6a4bd0bbd1fab840aa05be918bbc85d4fcb0220151befa316ef6591825e0054a0775fd785dd2ee1480d8e995a40ef5d127fda87014104fac05cd2ccbc2a8fed4205bb164da54a887d67e496bf362030ab5f0ead75130656a1e8e7ba98cc72fff7efcbe53cb6b484bec6c38874be86e6790ca74f61bb84ffffffff02c05c1500000000001976a91483c41e740086a521226a39a372f2ef4a4217e07588ac00000000000000000a6a08356362616466623700000000\n"
     ]
    }
   ],
   "source": [
    "#User input:\n",
    "version_number = '01000000'\n",
    "number_inputs = '01'\n",
    "previous_transaction = input(\"Enter Previous user transaction, for example, 0454bef0e9a178b8f31667dc1cb6ba0fb708d4b745d19a8e3ef6de7b52b6108b: \")\n",
    "previous_transaction = reverse(previous_transaction)\n",
    "output_script = '0' + input(\"Enter previous output (here <= 15), for example, 1: \") + '000000'\n",
    "script = '1976a914' + input(\"Enter previous PKH, for example, 76a9145e4f04c3ee1941d665eb1312280ca3a0bbbfd3ba: \") + '88ac'\n",
    "sequence = 'ffffffff'\n",
    "tx_ip = version_number + number_inputs + previous_transaction + output_script + script + sequence\n",
    "\n",
    "\n",
    "#User_output:\n",
    "Outputs = '02'\n",
    "out_tx = Outputs + tx_outputs() + op_return() + '0'*8 + '01000000'\n",
    "\n",
    "#Final Transaction:\n",
    "raw_transaction = tx_ip + out_tx\n",
    "print('''Raw transaction: ''', raw_transaction)\n",
    "\n",
    "#DIGITAL SIGNATURE\n",
    "unsigned = raw_transaction\n",
    "\n",
    "temp_bin = binascii.unhexlify(unsigned)\n",
    "temp_hash = hashlib.sha256(temp_bin).digest()\n",
    "hash2 = hashlib.sha256(temp_hash).hexdigest()\n",
    "tx_hash = hashlib.sha256(temp_hash).digest()\n",
    "\n",
    "private_key = input(\"Enter Private Key, for example, fbed793f3757d1fddf7d675ed64fa329b28943745b166cc94b30e46c09f778fc: \")\n",
    "signingkey = ecdsa.SigningKey.from_string(bytes.fromhex(private_key), curve=ecdsa.SECP256k1)\n",
    "SIG = signingkey.sign_digest(tx_hash, sigencode=ecdsa.util.sigencode_der_canonize)\n",
    "\n",
    "print(\"\\n\\nDigital Signature: \", str(binascii.hexlify(SIG),'ascii'))\n",
    "\n",
    "#Generating_SigScript:\n",
    "DER_input =  str(binascii.hexlify(SIG),'ascii')\n",
    "header = DER_input[0:2]\n",
    "Sig_Length = DER_input[2:4]\n",
    "r_integer = DER_input[4:6]\n",
    "r_length = DER_input[6:8]\n",
    "r = DER_input[8:8 + 2 * int(r_length,16)]\n",
    "s_integer = DER_input[8 + 2 * int(r_length,16): 10 + 2 * int(r_length,16)]\n",
    "s_length = DER_input[10 + 2 * int(r_length,16): 12 + 2 * int(r_length,16)]\n",
    "s = DER_input[12 + 2 * int(r_length,16):]\n",
    "\n",
    "pushdata_opcode = pushdata(r_length, s_length)\n",
    "sighash_code = '01'\n",
    "\n",
    "publickey = input(\"Enter Publickey (Compressed or Uncompressed), for example, 0409aa99ce4e7f6b23faf283b5eaab2f6233ac28cbb34cc083957441c5c760fc7b5da64c0975b9f6f8b14f52e1eee5be5750b5ce226b6690bde6438e51211f9ff2: \")\n",
    "pubkey_pushdata_opcode = pubkey_opcode(publickey)\n",
    "\n",
    "final_SigScript = pushdata_opcode + header + Sig_Length + r_integer + r_length + r + s_integer + s_length + s + sighash_code + pubkey_pushdata_opcode + publickey\n",
    "SigScript = pubkey_opcode(final_SigScript) + final_SigScript\n",
    "print(\"\\nSigScript(hex): \",SigScript,\"\\n\\n\\n\")\n",
    "\n",
    "#Broadcasting_Transaction:\n",
    "broadcasting_tx = version_number + number_inputs + previous_transaction + output_script + SigScript + sequence + out_tx [:-8]\n",
    "print('''Transaction to broadcast: ''', broadcasting_tx)"
   ]
  },
  {
   "cell_type": "markdown",
   "id": "84423a59",
   "metadata": {},
   "source": [
    "$$Transaction_{ID} = aa80c073c101760630581d85bfe58a682773d315a8b506a83cf16dfe48d2e9d4$$"
   ]
  },
  {
   "cell_type": "markdown",
   "id": "370dc7f1",
   "metadata": {},
   "source": [
    "---"
   ]
  },
  {
   "cell_type": "markdown",
   "id": "91b9f51e",
   "metadata": {},
   "source": [
    "### 4.\n",
    "(2 points) From address_2, Send some bitcoins to your 2-of-3\n",
    "MultiSignature Address.\n"
   ]
  },
  {
   "cell_type": "code",
   "execution_count": 22,
   "id": "bc74a2e6",
   "metadata": {},
   "outputs": [],
   "source": [
    "import base58\n",
    "import hashlib\n",
    "import ecdsa\n",
    "import binascii\n",
    "from ecdsa import SigningKey, SECP256k1 \n",
    "\n",
    "#Declaring function:\n",
    "class variableInteger:\n",
    "    def reverse_string_in_pair(a_str_ip):\n",
    "        i = 0\n",
    "        rev_a = []\n",
    "        while i != len(a_str_ip):\n",
    "            #print(a[i] + a[i+1])\n",
    "            temp_value = a_str_ip[i] + a_str_ip[i+1]\n",
    "            rev_a.append(temp_value)\n",
    "            i = i + 2\n",
    "        rev_a.reverse()\n",
    "        return ''.join(rev_a)\n",
    "    \n",
    "    def padding(b):\n",
    "        if int(len(b) % 2) == 0:\n",
    "            return b\n",
    "        else:\n",
    "            return '0' + b\n",
    "    \n",
    "    def variable_integer(a):\n",
    "        if type(a) == int:\n",
    "            temp = a\n",
    "        else:\n",
    "            temp = int(len(a)/2)\n",
    "        \n",
    "        if temp <= int('0xfc',16):\n",
    "            return variableInteger.padding(hex(temp)[2:])\n",
    "        elif temp > int('0xfc',16) and temp <= int('0xffff',16):\n",
    "            return 'fd' +  variableInteger.reverse_string_in_pair(variableInteger.padding(hex(temp)[2:]))\n",
    "        elif temp > int('0xffff',16) and temp <= int('0xffffffff',16):\n",
    "            return 'fe' + variableInteger.reverse_string_in_pair(variableInteger.padding(hex(temp)[2:]))\n",
    "        elif temp > int('0xffffffff',16) and temp <= int('0xffffffffffffffff',16):\n",
    "            return 'ff' + variableInteger.reverse_string_in_pair(variableInteger.padding(hex(temp)[2:]))\n",
    "        \n",
    "def digital_signature(raw_tx):\n",
    "    unsigned = raw_tx\n",
    "    \n",
    "    temp_bin = binascii.unhexlify(unsigned)\n",
    "    temp_hash = hashlib.sha256(temp_bin).digest()\n",
    "    tx_hash = hashlib.sha256(temp_hash).digest()\n",
    "    private_key = input(\"Enter Private Key: \")\n",
    "    signingkey = ecdsa.SigningKey.from_string(bytes.fromhex(private_key), curve=ecdsa.SECP256k1)\n",
    "    SIG = signingkey.sign_digest(tx_hash, sigencode=ecdsa.util.sigencode_der_canonize)   \n",
    "    temp_sig = str(binascii.hexlify(SIG),'ascii')\n",
    "    return temp_sig     \n",
    "\n",
    "def reverse_string_in_pair(a_str_ip):\n",
    "    i = 0\n",
    "    rev_a = []\n",
    "    while i != len(a_str_ip):\n",
    "        #print(a[i] + a[i+1])\n",
    "        temp_value = a_str_ip[i] + a_str_ip[i+1]\n",
    "        rev_a.append(temp_value)\n",
    "        i = i + 2\n",
    "    rev_a.reverse()\n",
    "    return ''.join(rev_a)\n",
    "\n",
    "def bitcoin_satoshi_rev_hex(btc):\n",
    "    temp = float(btc) * (10**8)\n",
    "    temp_1 = hex(int(temp))[2:]\n",
    "    temp_2 = reverse_string_in_pair(str(temp_1).zfill(16))\n",
    "    return temp_2\n",
    "\n",
    "def tx_inputs_tx_id():\n",
    "    previous_tx_hash = input(\"Enter Reference TxId: \")\n",
    "    previous_tx_hash_reversed = reverse_string_in_pair(previous_tx_hash)\n",
    "    previous_output_index = input(\"Enter Previous output index: \")\n",
    "    previous_output_index = reverse_string_in_pair('{:08d}'.format(int(previous_output_index)))\n",
    "    return previous_tx_hash_reversed + previous_output_index\n",
    "\n",
    "def redeem_place_holder():\n",
    "    redeemScript = input(\"Enter redeem Script: \")\n",
    "    return variableInteger.variable_integer(redeemScript) + redeemScript\n",
    "\n",
    "def tx_outputs(c):\n",
    "    receiver = input(\"Enter Receiver's Address {}: \".format(c+1))\n",
    "    if receiver[0] == 'm' or receiver[0] == 'n': \n",
    "        value = input(\"Enter Value in BTC (0.0) to send {}:\".format(receiver))\n",
    "        value_in_hex_NYB = bitcoin_satoshi_rev_hex(value)\n",
    "        receiver_address = base58.b58decode(receiver).hex()[2:-8]\n",
    "        locking_Script = '76' + 'a9' + variableInteger.variable_integer(receiver_address) + receiver_address + '88' + 'ac'\n",
    "        script_len_2 = variableInteger.variable_integer(locking_Script)\n",
    "        return value_in_hex_NYB + script_len_2 + locking_Script\n",
    "    \n",
    "    elif receiver[0] == '2':\n",
    "        value = input(\"Enter Value in BTC (0.0) to send {}:\".format(receiver))\n",
    "        value_in_hex_NYB = bitcoin_satoshi_rev_hex(value)\n",
    "        receiver_address = base58.b58decode(receiver).hex()[2:-8]\n",
    "        locking_Script = 'a9' + variableInteger.variable_integer(receiver_address) + receiver_address + '87'\n",
    "        script_len_2 = variableInteger.variable_integer(locking_Script)\n",
    "        return value_in_hex_NYB + script_len_2 + locking_Script"
   ]
  },
  {
   "cell_type": "code",
   "execution_count": 24,
   "id": "9c640b3d",
   "metadata": {},
   "outputs": [],
   "source": [
    "def create_new_transaction_3(tx_id, publickey, private_key, n_out, n_data_out):\n",
    "\n",
    "    version_number = '01000000'\n",
    "    number_inputs = '01'\n",
    "    previous_transaction = tx_id\n",
    "    previous_transaction = reverse(previous_transaction)\n",
    "    \n",
    "    previous_output = '1'\n",
    "    output_script = '0' + previous_output + '000000'\n",
    "    previous_PKH = input(\"Enter previous PKH: \")\n",
    "    script = '1976a914' + previous_PKH + '88ac'\n",
    "    sequence = 'ffffffff'\n",
    "    tx_ip = version_number + number_inputs + previous_transaction + output_script + script + sequence\n",
    "\n",
    "\n",
    "    #User_output:\n",
    "    Outputs = str(n_out)\n",
    "    #utxo outputs\n",
    "    utxo_output = str(1) # the same all time -> hardcoded\n",
    "    tx_output = ''\n",
    "    for i in range(0, int(utxo_output)):\n",
    "            tx_output = tx_outputs(i) + tx_output\n",
    "    #data output\n",
    "    data_output = str(n_data_out)\n",
    "    op_ret = ''\n",
    "    for i in range(0, int(data_output)):\n",
    "            op_ret = op_return(i) + op_ret\n",
    "    out_tx = '0' + Outputs + tx_output + op_ret + '0'*8 + '01000000'\n",
    "\n",
    "    #Final Transaction:\n",
    "    raw_transaction = tx_ip + out_tx\n",
    "    print('''Raw transaction: ''', raw_transaction)\n",
    "\n",
    "    #DIGITAL SIGNATURE\n",
    "    unsigned = raw_transaction\n",
    "\n",
    "    temp_bin = binascii.unhexlify(unsigned)\n",
    "    temp_hash = hashlib.sha256(temp_bin).digest()\n",
    "    hash2 = hashlib.sha256(temp_hash).hexdigest()\n",
    "    tx_hash = hashlib.sha256(temp_hash).digest()\n",
    "\n",
    "    signingkey = ecdsa.SigningKey.from_string(bytes.fromhex(private_key), curve=ecdsa.SECP256k1)\n",
    "    SIG = signingkey.sign_digest(tx_hash, sigencode=ecdsa.util.sigencode_der_canonize)\n",
    "\n",
    "    print(\"\\n\\nDigital Signature: \", str(binascii.hexlify(SIG),'ascii'))\n",
    "\n",
    "    #Generating_SigScript:\n",
    "    DER_input =  str(binascii.hexlify(SIG),'ascii')\n",
    "    header = DER_input[0:2]\n",
    "    Sig_Length = DER_input[2:4]\n",
    "    r_integer = DER_input[4:6]\n",
    "    r_length = DER_input[6:8]\n",
    "    r = DER_input[8:8 + 2 * int(r_length,16)]\n",
    "    s_integer = DER_input[8 + 2 * int(r_length,16): 10 + 2 * int(r_length,16)]\n",
    "    s_length = DER_input[10 + 2 * int(r_length,16): 12 + 2 * int(r_length,16)]\n",
    "    s = DER_input[12 + 2 * int(r_length,16):]\n",
    "\n",
    "    pushdata_opcode = pushdata(r_length, s_length)\n",
    "    sighash_code = '01'\n",
    " \n",
    "    pubkey_pushdata_opcode = pubkey_opcode(publickey)\n",
    "\n",
    "    final_SigScript = pushdata_opcode + header + Sig_Length + r_integer + r_length + r + s_integer + s_length + s + sighash_code + pubkey_pushdata_opcode + publickey\n",
    "    SigScript = pubkey_opcode(final_SigScript) + final_SigScript\n",
    "    print(\"\\nSigScript(hex): \",SigScript,\"\\n\\n\\n\")\n",
    "\n",
    "    #Broadcasting_Transaction:\n",
    "    broadcasting_tx = version_number + number_inputs + previous_transaction + output_script + SigScript + sequence + out_tx [:-8]\n",
    "    print('''Transaction to broadcast: ''', broadcasting_tx)"
   ]
  },
  {
   "cell_type": "code",
   "execution_count": 25,
   "id": "70e65c34",
   "metadata": {},
   "outputs": [
    {
     "name": "stdout",
     "output_type": "stream",
     "text": [
      "Enter previous PKH: 83c41e740086a521226a39a372f2ef4a4217e075\n",
      "Enter Receiver's Address 1: 2N7xXPREcPnUki7MtDFRanzYCxsHsK2i5N2\n",
      "Enter Value in BTC (0.0) to send 2N7xXPREcPnUki7MtDFRanzYCxsHsK2i5N2:0.013\n",
      "Raw transaction:  0100000001b2b9bab8ad273ae41a018a6402bcd3dca4d0a1a96f1546680c3c3fa1e2dc6c40010000001976a91483c41e740086a521226a39a372f2ef4a4217e07588acffffffff0120d613000000000017a914a16156d96a8f8f4fe612ab52ccdb3e758c471c2e870000000001000000\n",
      "\n",
      "\n",
      "Digital Signature:  3045022100d1dc7f6437f403d4aeb4bff9ccc82fcfa3091a71477f7a79cf8bc85ea38389840220465ccf7f7f52fd3f92877b63e05c48292b1d837e84a103657d5ca30d2dbae299\n",
      "\n",
      "SigScript(hex):  8b483045022100d1dc7f6437f403d4aeb4bff9ccc82fcfa3091a71477f7a79cf8bc85ea38389840220465ccf7f7f52fd3f92877b63e05c48292b1d837e84a103657d5ca30d2dbae299014104c15123e00223c2b8cfb0058531d11efb304fafce6f5bfc8f60dbbf4d878466db3038bf7ea363aaebea69b7f32e82a8800fbd38e7fc95a2d7569c441c8e6aefdf \n",
      "\n",
      "\n",
      "\n",
      "Transaction to broadcast:  0100000001b2b9bab8ad273ae41a018a6402bcd3dca4d0a1a96f1546680c3c3fa1e2dc6c40010000008b483045022100d1dc7f6437f403d4aeb4bff9ccc82fcfa3091a71477f7a79cf8bc85ea38389840220465ccf7f7f52fd3f92877b63e05c48292b1d837e84a103657d5ca30d2dbae299014104c15123e00223c2b8cfb0058531d11efb304fafce6f5bfc8f60dbbf4d878466db3038bf7ea363aaebea69b7f32e82a8800fbd38e7fc95a2d7569c441c8e6aefdfffffffff0120d613000000000017a914a16156d96a8f8f4fe612ab52ccdb3e758c471c2e8700000000\n"
     ]
    }
   ],
   "source": [
    "tx_id_3 = '406cdce2a13f3c0c6846156fa9a1d0a4dcd3bc02648a011ae43a27adb8bab9b2'\n",
    "priv_key = '0ec1a1909a91214a0f3bc631e8336751773f304d7b000530c0f8e9a6c459cfa4'\n",
    "public_key = '04c15123e00223c2b8cfb0058531d11efb304fafce6f5bfc8f60dbbf4d878466db3038bf7ea363aaebea69b7f32e82a8800fbd38e7fc95a2d7569c441c8e6aefdf'\n",
    "# order: tx_id, public key, private key, n_outputs, n_data_outputs\n",
    "create_new_transaction_3(tx_id_3, public_key, priv_key, 1, 0) "
   ]
  },
  {
   "cell_type": "markdown",
   "id": "7dab2f69",
   "metadata": {},
   "source": [
    "$$Transaction_{ID} = 40be6042760846dd121301da05f3db6ee80fa60beea09939989abff201239d9d$$\n",
    "\n"
   ]
  },
  {
   "cell_type": "markdown",
   "id": "4486b13b",
   "metadata": {},
   "source": [
    "---"
   ]
  },
  {
   "cell_type": "markdown",
   "id": "c435c261",
   "metadata": {},
   "source": [
    "### 5.\n",
    "(4 points) From 2-of-3 MultiSignature Address. Send some bitcoins back\n",
    "to address_1."
   ]
  },
  {
   "cell_type": "code",
   "execution_count": 9,
   "id": "52146fad",
   "metadata": {},
   "outputs": [
    {
     "name": "stdout",
     "output_type": "stream",
     "text": [
      "Number of Signatures Required: 2\n",
      "Enter Reference TxId: 0ecd3f9e588d7064558e4e583866478464e1d02b7aebe91df14523502d019e3f\n",
      "Enter Previous output index: 0\n",
      "Enter redeem Script: 524104fac05cd2ccbc2a8fed4205bb164da54a887d67e496bf362030ab5f0ead75130656a1e8e7ba98cc72fff7efcbe53cb6b484bec6c38874be86e6790ca74f61bb844104c15123e00223c2b8cfb0058531d11efb304fafce6f5bfc8f60dbbf4d878466db3038bf7ea363aaebea69b7f32e82a8800fbd38e7fc95a2d7569c441c8e6aefdf4104d44f5e00c302729406d4ab56e5aa690489fb162d250566ac873c82dd2b5e012b69325af3778aaff5203f505ac9d869b473c51785ce7c5d8346f77b12ca7c774f53ae\n"
     ]
    }
   ],
   "source": [
    "sig_loop = input(\"Number of Signatures Required: \")\n",
    "#Making Raw_Transaction: \n",
    "#input Basic\n",
    "version = '01000000'\n",
    "\n",
    "#input_multi_Signature:\n",
    "input_ms = '01' + tx_inputs_tx_id()\n",
    "redeem_Script = redeem_place_holder()\n",
    "tx_input_value = input_ms + redeem_Script + 'f'*8"
   ]
  },
  {
   "cell_type": "code",
   "execution_count": 10,
   "id": "11c2f20d",
   "metadata": {},
   "outputs": [
    {
     "name": "stdout",
     "output_type": "stream",
     "text": [
      "Enter number of outputs: 1\n",
      "Enter Receiver's Address 1: mheGBXjbDW65ntJv4764whtTtuqMja3NKc\n",
      "Enter Value in BTC (0.0) to send mheGBXjbDW65ntJv4764whtTtuqMja3NKc:0.013\n"
     ]
    }
   ],
   "source": [
    "#output\n",
    "utxo_output = input(\"Enter number of outputs: \")\n",
    "tx_output = ''\n",
    "for i in range(0, int(utxo_output)):\n",
    "        tx_output = tx_outputs(i) + tx_output\n",
    "next_output_data =  variableInteger.variable_integer(int(utxo_output)) + tx_output\n",
    "\n",
    "locktime = '00000000'\n",
    "SigHashCode = '01000000'"
   ]
  },
  {
   "cell_type": "code",
   "execution_count": 11,
   "id": "01ee0c7f",
   "metadata": {},
   "outputs": [
    {
     "name": "stdout",
     "output_type": "stream",
     "text": [
      "Raw Transaction to Sign:\n",
      "01000000013f9e012d502345f11de9eb7a2bd0e16484476638584e8e5564708d589e3fcd0e00000000c9524104fac05cd2ccbc2a8fed4205bb164da54a887d67e496bf362030ab5f0ead75130656a1e8e7ba98cc72fff7efcbe53cb6b484bec6c38874be86e6790ca74f61bb844104c15123e00223c2b8cfb0058531d11efb304fafce6f5bfc8f60dbbf4d878466db3038bf7ea363aaebea69b7f32e82a8800fbd38e7fc95a2d7569c441c8e6aefdf4104d44f5e00c302729406d4ab56e5aa690489fb162d250566ac873c82dd2b5e012b69325af3778aaff5203f505ac9d869b473c51785ce7c5d8346f77b12ca7c774f53aeffffffff0120d61300000000001976a91417521855b12000aa442289da3f173219819b581b88ac0000000001000000\n"
     ]
    }
   ],
   "source": [
    "tx_to_sign = version + tx_input_value + next_output_data + locktime + SigHashCode\n",
    "print(\"Raw Transaction to Sign:\")\n",
    "print(tx_to_sign)"
   ]
  },
  {
   "cell_type": "code",
   "execution_count": 12,
   "id": "f21bd4ea",
   "metadata": {},
   "outputs": [
    {
     "name": "stdout",
     "output_type": "stream",
     "text": [
      "Enter Private Key: 1171ff0a9299d180f3dcc00fb981f7f251629f54363678d7a731b737516fa09b\n",
      "1 483045022100f7dd0befbedf8201abbd05d0085172395cf56b18de2ecc2151d6aebea0a9beab02201123d9c3b98b513cbeaf2fc5055e025a6a1d8844ca2aef013b0c1472fec2c00401\n",
      "Enter Private Key: 0ec1a1909a91214a0f3bc631e8336751773f304d7b000530c0f8e9a6c459cfa4\n",
      "2 483045022100f7dd0befbedf8201abbd05d0085172395cf56b18de2ecc2151d6aebea0a9beab02201123d9c3b98b513cbeaf2fc5055e025a6a1d8844ca2aef013b0c1472fec2c0040147304402205d882a606ef7d00b4cfbc02d4ff1b02ec35cae38fe3b85169e1540b8737bdce902205ec84b8355ec8ae2e310e47af7a4c5260b7eed7d32de91ab14c3f1b783ddf3c001\n"
     ]
    }
   ],
   "source": [
    "# Digital Signature\n",
    "signatures = ''\n",
    "\n",
    "for i in range(0,int(sig_loop)):\n",
    "    signature_temp = digital_signature(tx_to_sign) + '01'\n",
    "    signature_temp_2 = variableInteger.variable_integer(signature_temp) + signature_temp\n",
    "    signatures = signatures + signature_temp_2\n",
    "    print(i+1,signatures)"
   ]
  },
  {
   "cell_type": "code",
   "execution_count": 13,
   "id": "22bf6309",
   "metadata": {},
   "outputs": [
    {
     "name": "stdout",
     "output_type": "stream",
     "text": [
      "SigScript: fd5d0100483045022100f7dd0befbedf8201abbd05d0085172395cf56b18de2ecc2151d6aebea0a9beab02201123d9c3b98b513cbeaf2fc5055e025a6a1d8844ca2aef013b0c1472fec2c0040147304402205d882a606ef7d00b4cfbc02d4ff1b02ec35cae38fe3b85169e1540b8737bdce902205ec84b8355ec8ae2e310e47af7a4c5260b7eed7d32de91ab14c3f1b783ddf3c0014cc9524104fac05cd2ccbc2a8fed4205bb164da54a887d67e496bf362030ab5f0ead75130656a1e8e7ba98cc72fff7efcbe53cb6b484bec6c38874be86e6790ca74f61bb844104c15123e00223c2b8cfb0058531d11efb304fafce6f5bfc8f60dbbf4d878466db3038bf7ea363aaebea69b7f32e82a8800fbd38e7fc95a2d7569c441c8e6aefdf4104d44f5e00c302729406d4ab56e5aa690489fb162d250566ac873c82dd2b5e012b69325af3778aaff5203f505ac9d869b473c51785ce7c5d8346f77b12ca7c774f53ae\n"
     ]
    }
   ],
   "source": [
    "SigScript_places = '00' + signatures + '4c' + redeem_Script \n",
    "SigScript =  variableInteger.variable_integer(SigScript_places) + SigScript_places\n",
    "print(\"SigScript:\",SigScript)"
   ]
  },
  {
   "cell_type": "code",
   "execution_count": 14,
   "id": "3c8a15ca",
   "metadata": {},
   "outputs": [
    {
     "name": "stdout",
     "output_type": "stream",
     "text": [
      "01000000013f9e012d502345f11de9eb7a2bd0e16484476638584e8e5564708d589e3fcd0e00000000fd5d0100483045022100f7dd0befbedf8201abbd05d0085172395cf56b18de2ecc2151d6aebea0a9beab02201123d9c3b98b513cbeaf2fc5055e025a6a1d8844ca2aef013b0c1472fec2c0040147304402205d882a606ef7d00b4cfbc02d4ff1b02ec35cae38fe3b85169e1540b8737bdce902205ec84b8355ec8ae2e310e47af7a4c5260b7eed7d32de91ab14c3f1b783ddf3c0014cc9524104fac05cd2ccbc2a8fed4205bb164da54a887d67e496bf362030ab5f0ead75130656a1e8e7ba98cc72fff7efcbe53cb6b484bec6c38874be86e6790ca74f61bb844104c15123e00223c2b8cfb0058531d11efb304fafce6f5bfc8f60dbbf4d878466db3038bf7ea363aaebea69b7f32e82a8800fbd38e7fc95a2d7569c441c8e6aefdf4104d44f5e00c302729406d4ab56e5aa690489fb162d250566ac873c82dd2b5e012b69325af3778aaff5203f505ac9d869b473c51785ce7c5d8346f77b12ca7c774f53aeffffffff0120d61300000000001976a91417521855b12000aa442289da3f173219819b581b88ac00000000\n"
     ]
    }
   ],
   "source": [
    "Broadcasting_transaction = version + input_ms + SigScript + 'f'*8 + next_output_data + locktime\n",
    "print(Broadcasting_transaction)"
   ]
  },
  {
   "cell_type": "markdown",
   "id": "b2d25507",
   "metadata": {},
   "source": [
    "$$Transaction_{ID} = 6149ac007eee4b530f3f014cc9bcf40591318e6c0230c07fcf99e4fb753cab01$$\n"
   ]
  },
  {
   "cell_type": "code",
   "execution_count": null,
   "id": "fae2fb6d",
   "metadata": {},
   "outputs": [],
   "source": []
  }
 ],
 "metadata": {
  "kernelspec": {
   "display_name": "Python 3 (ipykernel)",
   "language": "python",
   "name": "python3"
  },
  "language_info": {
   "codemirror_mode": {
    "name": "ipython",
    "version": 3
   },
   "file_extension": ".py",
   "mimetype": "text/x-python",
   "name": "python",
   "nbconvert_exporter": "python",
   "pygments_lexer": "ipython3",
   "version": "3.10.6"
  }
 },
 "nbformat": 4,
 "nbformat_minor": 5
}

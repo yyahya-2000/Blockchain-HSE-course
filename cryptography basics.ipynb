{
 "cells": [
  {
   "cell_type": "markdown",
   "metadata": {},
   "source": [
    "# Yanal Yahya, software engineering, 197 group"
   ]
  },
  {
   "cell_type": "markdown",
   "metadata": {},
   "source": [
    "# HA 3"
   ]
  },
  {
   "cell_type": "markdown",
   "metadata": {},
   "source": [
    "### Problem 1 (1 point)"
   ]
  },
  {
   "cell_type": "markdown",
   "metadata": {},
   "source": [
    "Diffie–Hellman key exchange protocol is one of the earliest practical examples of public key exchange implemented within the field of cryptography. Published in 1976 by Diffie and Hellman, this is the earliest publicly known work that proposed the idea of a private key and a corresponding public key. "
   ]
  },
  {
   "cell_type": "markdown",
   "metadata": {},
   "source": [
    "1) Implement function to generate common secret key within multiplicative group of given Finite field with known generator. \n",
    "\n",
    "*Note. You can assume that all the numbers are small, for example, less than 1000.*"
   ]
  },
  {
   "cell_type": "code",
   "execution_count": 35,
   "metadata": {},
   "outputs": [],
   "source": [
    "def generateSecretKey(g, A, B, p):\n",
    "    b = -1\n",
    "    for k in range(1000):\n",
    "        if(g**k % p == B):\n",
    "            b = k\n",
    "            break\n",
    "    if b == -1:\n",
    "        return 'not found'\n",
    "    return (A**b) % p\n",
    "    "
   ]
  },
  {
   "cell_type": "markdown",
   "metadata": {},
   "source": [
    "2) Test your solution in GF(17) with generator g=11. Bobs' open key B=11, Alice private key is a=7"
   ]
  },
  {
   "cell_type": "code",
   "execution_count": 36,
   "metadata": {},
   "outputs": [
    {
     "data": {
      "text/plain": [
       "3"
      ]
     },
     "execution_count": 36,
     "metadata": {},
     "output_type": "execute_result"
    }
   ],
   "source": [
    "p = 17\n",
    "g = 11\n",
    "B = 11\n",
    "a = 7\n",
    "A = (g**a) % p\n",
    "generateSecretKey(g, A, B, p)"
   ]
  },
  {
   "cell_type": "markdown",
   "metadata": {},
   "source": [
    "### checking"
   ]
  },
  {
   "cell_type": "code",
   "execution_count": 37,
   "metadata": {},
   "outputs": [
    {
     "data": {
      "text/plain": [
       "3"
      ]
     },
     "execution_count": 37,
     "metadata": {},
     "output_type": "execute_result"
    }
   ],
   "source": [
    "B**a % p"
   ]
  },
  {
   "cell_type": "markdown",
   "metadata": {},
   "source": [
    "### Problem 2 (3 points)"
   ]
  },
  {
   "cell_type": "markdown",
   "metadata": {},
   "source": [
    "El Gamal protocol is widely used in cryptography. In this task we will ask you to implement your own El-Gamal encryption scheme on Python."
   ]
  },
  {
   "cell_type": "markdown",
   "metadata": {},
   "source": [
    "1) Implement function for generating keys. The function must generate big random prime number (problem of generating big prime numbers was discussed within the lectures). (1 point)\n",
    "\n",
    "*Note. You can assume that all the numbers are small, for example, less than $2^{32}$. But you **must** use a primality test as a part of the function to get a full score.*"
   ]
  },
  {
   "cell_type": "code",
   "execution_count": 2,
   "metadata": {},
   "outputs": [
    {
     "name": "stdout",
     "output_type": "stream",
     "text": [
      "65119\n"
     ]
    }
   ],
   "source": [
    "from random import randrange, getrandbits\n",
    "import math\n",
    "def is_prime(n):\n",
    "    for i in range(2,int(math.sqrt(n))+1):\n",
    "        if (n%i) == 0:\n",
    "            return False\n",
    "    return True\n",
    "\n",
    "def generate_prime_candidate(length):\n",
    "    \"\"\"\n",
    "        Args:\n",
    "            length -- int -- the length of the number to generate, in bits\n",
    "        return a integer\n",
    "    \"\"\"\n",
    "    # generate random bits\n",
    "    p = getrandbits(length)\n",
    "    # apply a mask to set MSB and LSB to 1\n",
    "    p |= (1 << length - 1) | 1\n",
    "    return p\n",
    "def generate_prime_number(length=16):\n",
    "    \"\"\" Generate a prime\n",
    "        Args:\n",
    "            length -- int -- length of the prime to generate, in          bits\n",
    "        return a prime\n",
    "    \"\"\"\n",
    "    p = 4\n",
    "    # keep generating while the primality test fail\n",
    "    while not is_prime(p):\n",
    "        p = generate_prime_candidate(length)\n",
    "    return p\n",
    "print(generate_prime_number())"
   ]
  },
  {
   "cell_type": "markdown",
   "metadata": {},
   "source": [
    "2) Implement functions that realize the encryption and decryption in El Gamal protocol. (1 points)"
   ]
  },
  {
   "cell_type": "code",
   "execution_count": 12,
   "metadata": {},
   "outputs": [],
   "source": [
    "# Modular exponentiation\n",
    "import random\n",
    "\n",
    "# Asymmetric encryption\n",
    "def encrypt(M, p, y, g):\n",
    "    k = random.randint(2, p - 1)\n",
    "    a = pow(g, k, p)\n",
    "    b = (y**k * M) % p\n",
    "\n",
    "    return a, b\n",
    " \n",
    "def decrypt(a, b, p, x):       \n",
    "    return pow(b * pow(a, -x, p), 1, p)"
   ]
  },
  {
   "cell_type": "markdown",
   "metadata": {},
   "source": [
    "### testing the functions"
   ]
  },
  {
   "cell_type": "code",
   "execution_count": 13,
   "metadata": {},
   "outputs": [
    {
     "name": "stdout",
     "output_type": "stream",
     "text": [
      "Original Message : 376\n",
      "Decrypted Message : 376\n"
     ]
    }
   ],
   "source": [
    "M = 376\n",
    "print(\"Original Message :\", M)\n",
    "\n",
    "p = generate_prime_number()\n",
    "x = random.randint(2, 2**16)\n",
    "g = random.randint(2, x)\n",
    "\n",
    "y = pow(g, x, p)\n",
    "\n",
    "\n",
    "a, b = encrypt(M, p, y, g)\n",
    "dr_M = decrypt(a, b, p, x)\n",
    "print(\"Decrypted Message :\", dr_M);"
   ]
  },
  {
   "cell_type": "markdown",
   "metadata": {},
   "source": [
    "3) Calculate Hash of your name by SHA-1 and test El Gamal encryption/decryption functions on its 16-bit prefix. (1 points)"
   ]
  },
  {
   "cell_type": "code",
   "execution_count": 15,
   "metadata": {},
   "outputs": [
    {
     "data": {
      "text/plain": [
       "'ff783a55dfb3a0ebf1b633a87b0e6972e9309d98'"
      ]
     },
     "execution_count": 15,
     "metadata": {},
     "output_type": "execute_result"
    }
   ],
   "source": [
    "import hashlib\n",
    "hash_object = hashlib.sha1(b'Yanal Yahya')\n",
    "pbHash = hash_object.hexdigest()\n",
    "pbHash"
   ]
  },
  {
   "cell_type": "code",
   "execution_count": 16,
   "metadata": {},
   "outputs": [
    {
     "name": "stdout",
     "output_type": "stream",
     "text": [
      "Original Message : ff783a55dfb3a0ebf1b633a87b0e6972e9309d98\n",
      "Decrypted Message : ff783a55dfb3a0ebf1b633a87b0e6972e9309d98\n"
     ]
    }
   ],
   "source": [
    "M = pbHash\n",
    "print(\"Original Message :\", M)\n",
    "\n",
    "p = generate_prime_number()\n",
    "x = random.randint(2, 2**16)\n",
    "g = random.randint(2, x)\n",
    "\n",
    "y = pow(g, x, p)\n",
    "\n",
    "encrList = []\n",
    "dr_M = ''\n",
    "for ch in M:\n",
    "    a, b = encrypt(ord(ch), p, y, g)\n",
    "    encrList.append([a, b])\n",
    "for enCh in encrList:\n",
    "    dr_M += chr(decrypt(enCh[0], enCh[1], p, x))\n",
    "print(\"Decrypted Message :\", dr_M);"
   ]
  },
  {
   "cell_type": "markdown",
   "metadata": {},
   "source": [
    "### Problem 3 (4 points)"
   ]
  },
  {
   "cell_type": "markdown",
   "metadata": {},
   "source": [
    "Elliptic curves due to their efficient hardware realization widely used in modern secure communication channels. The main thing that lies inside their cryptographic hardness is that we can break them only by greed search over all group points. In this task, we will ask you to write Python function that returns all group elements of a certain elliptic curve over a finite field "
   ]
  },
  {
   "cell_type": "markdown",
   "metadata": {},
   "source": [
    "1) Write a python function that list all points of elliptic curve $y^2=x^3+7$ over $F_{127}$ (1 point)"
   ]
  },
  {
   "cell_type": "markdown",
   "metadata": {},
   "source": [
    "*Note. $127 = 2^7-1$ is the fourth Mersenne prime.*"
   ]
  },
  {
   "cell_type": "code",
   "execution_count": 17,
   "metadata": {},
   "outputs": [
    {
     "data": {
      "text/plain": [
       "(127,\n",
       " [[1, 32],\n",
       "  [1, 95],\n",
       "  [2, 53],\n",
       "  [2, 74],\n",
       "  [3, 62],\n",
       "  [3, 65],\n",
       "  [4, 43],\n",
       "  [4, 84],\n",
       "  [8, 30],\n",
       "  [8, 97],\n",
       "  [11, 24],\n",
       "  [11, 103],\n",
       "  [12, 46],\n",
       "  [12, 81],\n",
       "  [14, 46],\n",
       "  [14, 81],\n",
       "  [17, 27],\n",
       "  [17, 100],\n",
       "  [18, 39],\n",
       "  [18, 88],\n",
       "  [19, 32],\n",
       "  [19, 95],\n",
       "  [21, 39],\n",
       "  [21, 88],\n",
       "  [24, 49],\n",
       "  [24, 78],\n",
       "  [25, 30],\n",
       "  [25, 97],\n",
       "  [28, 49],\n",
       "  [28, 78],\n",
       "  [32, 3],\n",
       "  [32, 124],\n",
       "  [34, 24],\n",
       "  [34, 103],\n",
       "  [38, 53],\n",
       "  [38, 74],\n",
       "  [39, 12],\n",
       "  [39, 115],\n",
       "  [41, 27],\n",
       "  [41, 100],\n",
       "  [45, 33],\n",
       "  [45, 94],\n",
       "  [46, 51],\n",
       "  [46, 76],\n",
       "  [47, 43],\n",
       "  [47, 84],\n",
       "  [51, 18],\n",
       "  [51, 109],\n",
       "  [52, 36],\n",
       "  [52, 91],\n",
       "  [57, 62],\n",
       "  [57, 65],\n",
       "  [58, 38],\n",
       "  [58, 89],\n",
       "  [60, 19],\n",
       "  [60, 108],\n",
       "  [67, 62],\n",
       "  [67, 65],\n",
       "  [69, 27],\n",
       "  [69, 100],\n",
       "  [70, 19],\n",
       "  [70, 108],\n",
       "  [71, 63],\n",
       "  [71, 64],\n",
       "  [72, 16],\n",
       "  [72, 111],\n",
       "  [75, 49],\n",
       "  [75, 78],\n",
       "  [76, 43],\n",
       "  [76, 84],\n",
       "  [78, 50],\n",
       "  [78, 77],\n",
       "  [79, 63],\n",
       "  [79, 64],\n",
       "  [80, 18],\n",
       "  [80, 109],\n",
       "  [82, 24],\n",
       "  [82, 103],\n",
       "  [84, 16],\n",
       "  [84, 111],\n",
       "  [85, 50],\n",
       "  [85, 77],\n",
       "  [86, 38],\n",
       "  [86, 89],\n",
       "  [87, 53],\n",
       "  [87, 74],\n",
       "  [88, 39],\n",
       "  [88, 88],\n",
       "  [91, 50],\n",
       "  [91, 77],\n",
       "  [93, 33],\n",
       "  [93, 94],\n",
       "  [94, 30],\n",
       "  [94, 97],\n",
       "  [96, 51],\n",
       "  [96, 76],\n",
       "  [98, 16],\n",
       "  [98, 111],\n",
       "  [99, 36],\n",
       "  [99, 91],\n",
       "  [100, 3],\n",
       "  [100, 124],\n",
       "  [101, 46],\n",
       "  [101, 81],\n",
       "  [103, 36],\n",
       "  [103, 91],\n",
       "  [104, 63],\n",
       "  [104, 64],\n",
       "  [106, 12],\n",
       "  [106, 115],\n",
       "  [107, 32],\n",
       "  [107, 95],\n",
       "  [109, 12],\n",
       "  [109, 115],\n",
       "  [110, 38],\n",
       "  [110, 89],\n",
       "  [112, 51],\n",
       "  [112, 76],\n",
       "  [116, 33],\n",
       "  [116, 94],\n",
       "  [122, 3],\n",
       "  [122, 124],\n",
       "  [123, 18],\n",
       "  [123, 109],\n",
       "  [124, 19],\n",
       "  [124, 108],\n",
       "  'точка бесконечность'])"
      ]
     },
     "execution_count": 17,
     "metadata": {},
     "output_type": "execute_result"
    }
   ],
   "source": [
    "pointsOnCurve = []\n",
    "for x in range(127):\n",
    "    for y in range(127):\n",
    "        if(y**2 % 127 == (x**3 + 7) % 127):\n",
    "            pointsOnCurve.append([x,y])\n",
    "\n",
    "pointsOnCurve.append('точка бесконечность')\n",
    "len(pointsOnCurve),pointsOnCurve"
   ]
  },
  {
   "cell_type": "markdown",
   "metadata": {
    "collapsed": true
   },
   "source": [
    "2) Compare the number of points with Hasse’s estimate $|N-(q+1)|\\leq 2{\\sqrt  {q}}$. (1 point)"
   ]
  },
  {
   "cell_type": "code",
   "execution_count": 18,
   "metadata": {},
   "outputs": [
    {
     "data": {
      "text/plain": [
       "True"
      ]
     },
     "execution_count": 18,
     "metadata": {},
     "output_type": "execute_result"
    }
   ],
   "source": [
    "pointsNum = len(pointsOnCurve)\n",
    "q = 127\n",
    "abs(pointsNum -(q + 1)) <= 2*((q)**(1/2))"
   ]
  },
  {
   "cell_type": "markdown",
   "metadata": {},
   "source": [
    "3) Prove that the point\n",
    "$A = (19, 32)$ belongs to the elliptic curve and construct a sequence of $B_n = nA, n = 1, ..., 100$. (2 points)"
   ]
  },
  {
   "cell_type": "markdown",
   "metadata": {},
   "source": [
    "### Proving that the point  𝐴=(19,32)  belongs to the elliptic curve"
   ]
  },
  {
   "cell_type": "code",
   "execution_count": 19,
   "metadata": {},
   "outputs": [
    {
     "data": {
      "text/plain": [
       "True"
      ]
     },
     "execution_count": 19,
     "metadata": {},
     "output_type": "execute_result"
    }
   ],
   "source": [
    "32**2 % 127 == (19**3 + 7) % 127"
   ]
  },
  {
   "cell_type": "markdown",
   "metadata": {},
   "source": [
    "### $B_n:$"
   ]
  },
  {
   "cell_type": "code",
   "execution_count": 20,
   "metadata": {},
   "outputs": [
    {
     "data": {
      "text/plain": [
       "[87, 63]"
      ]
     },
     "execution_count": 20,
     "metadata": {},
     "output_type": "execute_result"
    }
   ],
   "source": [
    "res = [19, 32]\n",
    "A = [19, 32]\n",
    "for n in range(1, 100):\n",
    "    if(res[0] == A[0] and res[1] == A[1]):\n",
    "        s = (3*(res[0]**2) * pow(2*res[1], -1, 127)) % 127\n",
    "        res[0] = pow(s**2 - 2 * res[0], 1, 127)\n",
    "        res[1] = pow(-res[1] + s*(A[0] - res[0]), 1, 127)\n",
    "    elif(res[0] == A[0]):\n",
    "        res[0] = 0\n",
    "        res[1] = 0\n",
    "    else:\n",
    "        m = pow((A[1] - res[1]) * pow(A[0] - res[0], -1, 127), 1, 127)\n",
    "        res[0] = pow(m**2 - A[0] - res[0], 1, 127)\n",
    "        res[1] = pow(-A[1] - m*(A[0] - res[0]), 1, 127)\n",
    "res\n",
    "    "
   ]
  },
  {
   "cell_type": "markdown",
   "metadata": {},
   "source": [
    "### Problem 4 (2 points)"
   ]
  },
  {
   "cell_type": "markdown",
   "metadata": {},
   "source": [
    "Let $p = 601$, $q = 7$, $e = 1463$ be the setup of the RSA algorithm. Compute $d$, sign the plane message $m = 58$ and check the signature."
   ]
  },
  {
   "cell_type": "code",
   "execution_count": 21,
   "metadata": {},
   "outputs": [],
   "source": [
    "import math as mth"
   ]
  },
  {
   "cell_type": "code",
   "execution_count": 22,
   "metadata": {},
   "outputs": [],
   "source": [
    "p = 601\n",
    "q = 7\n",
    "e = 1463\n",
    "m = 58\n",
    "n = p*q\n",
    "lamda = mth.lcm(p - 1, q - 1)"
   ]
  },
  {
   "cell_type": "code",
   "execution_count": 23,
   "metadata": {},
   "outputs": [
    {
     "data": {
      "text/plain": [
       "527"
      ]
     },
     "execution_count": 23,
     "metadata": {},
     "output_type": "execute_result"
    }
   ],
   "source": [
    "d = pow(e, -1, lamda)\n",
    "d"
   ]
  },
  {
   "cell_type": "markdown",
   "metadata": {},
   "source": [
    "### signing the plane message 𝑚=58"
   ]
  },
  {
   "cell_type": "code",
   "execution_count": 24,
   "metadata": {},
   "outputs": [
    {
     "data": {
      "text/plain": [
       "1348"
      ]
     },
     "execution_count": 24,
     "metadata": {},
     "output_type": "execute_result"
    }
   ],
   "source": [
    "sigma = pow(m, d, n)\n",
    "sigma"
   ]
  },
  {
   "cell_type": "markdown",
   "metadata": {},
   "source": [
    "### checking the signature"
   ]
  },
  {
   "cell_type": "code",
   "execution_count": 25,
   "metadata": {},
   "outputs": [
    {
     "data": {
      "text/plain": [
       "True"
      ]
     },
     "execution_count": 25,
     "metadata": {},
     "output_type": "execute_result"
    }
   ],
   "source": [
    "pow(sigma, e, n) == m"
   ]
  }
 ],
 "metadata": {
  "kernelspec": {
   "display_name": "Python 3 (ipykernel)",
   "language": "python",
   "name": "python3"
  },
  "language_info": {
   "codemirror_mode": {
    "name": "ipython",
    "version": 3
   },
   "file_extension": ".py",
   "mimetype": "text/x-python",
   "name": "python",
   "nbconvert_exporter": "python",
   "pygments_lexer": "ipython3",
   "version": "3.10.6"
  }
 },
 "nbformat": 4,
 "nbformat_minor": 2
}

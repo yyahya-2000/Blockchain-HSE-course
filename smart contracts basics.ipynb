{
 "cells": [
  {
   "cell_type": "markdown",
   "id": "4b5a6ad8",
   "metadata": {},
   "source": [
    "# Student: Yanal Yahya, SE197"
   ]
  },
  {
   "cell_type": "markdown",
   "id": "1e7620bf",
   "metadata": {},
   "source": [
    "### Address_1:\n",
    "**Private Key:** 944bbfa65bc80a6ffed4321165d03cb2549328be58614fd973281fa07cb33b04<br>\n",
    "**Checksum Address:** 0x0f65d26103c02D72655F7647dA399DAE9d531423\n",
    "### Address_2: \n",
    "**Private Key:** c13e53ea3fea9e254f56a6a7b32be679f6dbb3b4b7ea4306e80a3cfbb8dfd249<br>\n",
    "**Checksum Address:** 0xbE01316f9553263F123cf24F0a78Bba7c5F0c953"
   ]
  },
  {
   "cell_type": "code",
   "execution_count": 11,
   "id": "d41149e3",
   "metadata": {},
   "outputs": [],
   "source": [
    "privateKey1 = '944bbfa65bc80a6ffed4321165d03cb2549328be58614fd973281fa07cb33b04'\n",
    "checksumAddress1 = '0x0f65d26103c02D72655F7647dA399DAE9d531423'\n",
    "privateKey2 = 'c13e53ea3fea9e254f56a6a7b32be679f6dbb3b4b7ea4306e80a3cfbb8dfd249'\n",
    "checksumAddress2 = '0xbE01316f9553263F123cf24F0a78Bba7c5F0c953'"
   ]
  },
  {
   "cell_type": "markdown",
   "id": "8cef0e96",
   "metadata": {},
   "source": [
    "# 1."
   ]
  },
  {
   "cell_type": "code",
   "execution_count": 12,
   "id": "8d349f84",
   "metadata": {},
   "outputs": [
    {
     "name": "stdout",
     "output_type": "stream",
     "text": [
      "\n",
      "To which blockchain network would you like to connect?\n",
      "    1. Main network\n",
      "    2. Goerli network\n",
      "    3. Sepolia network\n",
      "\n",
      "Enter operation number: 2\n",
      "Connected to Testnet: True\n"
     ]
    }
   ],
   "source": [
    "from web3 import Web3\n",
    "\n",
    "print('''\n",
    "To which blockchain network would you like to connect?\n",
    "    1. Main network\n",
    "    2. Goerli network\n",
    "    3. Sepolia network\n",
    "'''\n",
    ")\n",
    "\n",
    "user_ip = input(\"Enter operation number: \")\n",
    "\n",
    "if user_ip == '1':\n",
    "    testnet_url = \"https://mainnet.infura.io/v3/bca3c892204949beb44a2859bc7bfe21\"\n",
    "    \n",
    "elif user_ip == '2':\n",
    "    testnet_url = \"https://goerli.infura.io/v3/bca3c892204949beb44a2859bc7bfe21\"\n",
    "    \n",
    "elif user_ip == '3':\n",
    "    testnet_url = \"https://sepolia.infura.io/v3/bca3c892204949beb44a2859bc7bfe21\"\n",
    "    \n",
    "web3 = Web3(Web3.HTTPProvider(testnet_url))\n",
    "print(\"Connected to Testnet:\",web3.isConnected())"
   ]
  },
  {
   "cell_type": "code",
   "execution_count": 13,
   "id": "4c72023f",
   "metadata": {},
   "outputs": [
    {
     "name": "stdout",
     "output_type": "stream",
     "text": [
      "Connected to Testnet: True\n"
     ]
    }
   ],
   "source": [
    "testnet_url = \"https://goerli.infura.io/v3/bca3c892204949beb44a2859bc7bfe21\"\n",
    "web3 = Web3(Web3.HTTPProvider(testnet_url))\n",
    "print(\"Connected to Testnet:\",web3.isConnected())"
   ]
  },
  {
   "cell_type": "markdown",
   "id": "62b1328f",
   "metadata": {},
   "source": [
    "---"
   ]
  },
  {
   "cell_type": "markdown",
   "id": "fc18ad36",
   "metadata": {},
   "source": [
    "# 2."
   ]
  },
  {
   "cell_type": "markdown",
   "id": "8ba5b670",
   "metadata": {},
   "source": [
    "**The Transaction link of getting 0.1 Ethers from https://goerlifaucet.com/:** <br>https://goerli.etherscan.io/tx/0x121bdb05fe820b020179e980e654598175e865bee4ae4bae853a9f7758ba7ec8"
   ]
  },
  {
   "cell_type": "markdown",
   "id": "71638595",
   "metadata": {},
   "source": [
    "---"
   ]
  },
  {
   "cell_type": "markdown",
   "id": "d78f17ca",
   "metadata": {},
   "source": [
    "# 3."
   ]
  },
  {
   "cell_type": "code",
   "execution_count": 6,
   "id": "0294fcd9",
   "metadata": {},
   "outputs": [
    {
     "name": "stdout",
     "output_type": "stream",
     "text": [
      "\n",
      "Choice operation:\n",
      "    1. Check block height.\n",
      "    2. Get information about a block.\n",
      "    3. Get balance information of address_1.\n",
      "    4. Get balance information of address_1 in ethers.\n",
      "    5. Exit\n",
      "\n",
      "Enter operation number: 4\n",
      "0.021531830864101948 Ether(s)\n",
      "Enter operation number: 3\n",
      "21531830864101948\n",
      "Enter operation number: 1\n",
      "the block height is: 7796857\n",
      "Enter operation number: 2\n",
      "Enter block number: 7796857\n",
      "\n",
      "    Block information: \n",
      "{'baseFeePerGas': 12729022234,\n",
      " 'difficulty': 0,\n",
      " 'extraData': HexBytes('0x'),\n",
      " 'gasLimit': 30000000,\n",
      " 'gasUsed': 1646791,\n",
      " 'hash': HexBytes('0xd4a83f35d80eb0e1f137a706d5595dc9ed7826a477e07d36ff5a789e8f8ef3f8'),\n",
      " 'logsBloom': HexBytes('0x00000000000000000000040000000100000000000001000200000000000000000000000000000000000001000000200000000000000000000000000000000000000000000000000000000808000000000000000400200800000008000100000000000000020000040010000004000800000000000000000000000010000020001000000000040000000001000000000000000400000000000000000200000000000000000000000000000000000000000000000000000000000000000000000000400002000000000000000000000000000000040000000000000000000020000000010000000000000020000080000000000008000000000000000000000000'),\n",
      " 'miner': '0x000095E79eAC4d76aab57cB2c1f091d553b36ca0',\n",
      " 'mixHash': HexBytes('0xee20f8d3f18349053d49714594e9f7d6e88a9a455ba8a439d8f104bf97cba0ef'),\n",
      " 'nonce': HexBytes('0x0000000000000000'),\n",
      " 'number': 7796857,\n",
      " 'parentHash': HexBytes('0xdb0e41b5e09dac8c1c600b406b63141fb2af039fb89aef0b33cb9ab2f6edc8a0'),\n",
      " 'receiptsRoot': HexBytes('0x45fd90ca98a418b40c7061b8bb15a66343bb2c340ef796e9b476174e681b7a62'),\n",
      " 'sha3Uncles': HexBytes('0x1dcc4de8dec75d7aab85b567b6ccd41ad312451b948a7413f0a142fd40d49347'),\n",
      " 'size': 8175,\n",
      " 'stateRoot': HexBytes('0x6f120fa353df104fc19b5926cd5e12d7cdeb7a16e4d7055ba2ec66036ffa237e'),\n",
      " 'timestamp': 1666184244,\n",
      " 'totalDifficulty': 10790000,\n",
      " 'transactions': [HexBytes('0x38725a4172c78050f511ebd099697a134e5d119119b8fc62f491a6e9496fccd0'),\n",
      "                  HexBytes('0x8ff28342b4b40a06c89e5169f2788b024816e83ac5606df3d5246044edc5af00'),\n",
      "                  HexBytes('0xc814160f24f02d00c52feced990c37a56d3015d2461297285016d9bcebe2c50e'),\n",
      "                  HexBytes('0x2423058e9ea45332747d6bd5da984ae72be6a701ceb2e6253012f6e112670303')],\n",
      " 'transactionsRoot': HexBytes('0x772c60b97ad731ee34bab4b2c826081e0509fb5d19a21a83989aebec0d708829'),\n",
      " 'uncles': []}\n",
      "Enter operation number: 5\n"
     ]
    }
   ],
   "source": [
    "from pprint import pprint\n",
    "\n",
    "print('''\n",
    "Choice operation:\n",
    "    1. Check block height.\n",
    "    2. Get information about a block.\n",
    "    3. Get balance information of address_1.\n",
    "    4. Get balance information of address_1 in ethers.\n",
    "    5. Exit\n",
    "'''\n",
    ")\n",
    "\n",
    "user_ip = -1\n",
    "\n",
    "while (user_ip != '5'):\n",
    "    user_ip = input(\"Enter operation number: \")\n",
    "\n",
    "    if user_ip == '1':\n",
    "        print('the block height is: ' + str(web3.eth.block_number))\n",
    "    elif user_ip == '2':\n",
    "        blockNumber = int(input(\"Enter block number: \"))\n",
    "        print('''\n",
    "    Block information: ''')\n",
    "        pprint(vars(web3.eth.get_block(blockNumber)))\n",
    "\n",
    "    elif user_ip == '3':\n",
    "        print(web3.eth.get_balance(checksumAddress1))\n",
    "\n",
    "    elif user_ip == '4':\n",
    "        print(web3.eth.getBalance(checksumAddress1) / 1e18, 'Ether(s)')"
   ]
  },
  {
   "cell_type": "markdown",
   "id": "82d5795c",
   "metadata": {},
   "source": [
    "---"
   ]
  },
  {
   "cell_type": "markdown",
   "id": "88565d3b",
   "metadata": {},
   "source": [
    "# 4."
   ]
  },
  {
   "cell_type": "code",
   "execution_count": 14,
   "id": "bc423ae7",
   "metadata": {},
   "outputs": [],
   "source": [
    "nonce = web3.eth.getTransactionCount(checksumAddress1)"
   ]
  },
  {
   "cell_type": "code",
   "execution_count": 107,
   "id": "8c2a9667",
   "metadata": {},
   "outputs": [
    {
     "name": "stdout",
     "output_type": "stream",
     "text": [
      "Ethers: 0.0001\n"
     ]
    }
   ],
   "source": [
    "tx = {\n",
    "      'nonce':nonce,\n",
    "      #'from': account_1,\n",
    "      'to': checksumAddress2,\n",
    "      'value': web3.toWei(float(input(\"Ethers: \")),'ether'),\n",
    "      'gas':200000,\n",
    "      'gasPrice':web3.toWei('50','gwei')\n",
    "      }"
   ]
  },
  {
   "cell_type": "code",
   "execution_count": 108,
   "id": "9b786d67",
   "metadata": {},
   "outputs": [
    {
     "data": {
      "text/plain": [
       "{'nonce': 0,\n",
       " 'to': '0xbE01316f9553263F123cf24F0a78Bba7c5F0c953',\n",
       " 'value': 100000000000000,\n",
       " 'gas': 200000,\n",
       " 'gasPrice': 50000000000}"
      ]
     },
     "execution_count": 108,
     "metadata": {},
     "output_type": "execute_result"
    }
   ],
   "source": [
    "tx"
   ]
  },
  {
   "cell_type": "code",
   "execution_count": 109,
   "id": "9fda42ea",
   "metadata": {},
   "outputs": [
    {
     "name": "stdout",
     "output_type": "stream",
     "text": [
      "rawTransaction: 0xf86b80850ba43b740083030d4094be01316f9553263f123cf24f0a78bba7c5f0c953865af3107a4000801ba07fbad07a1a12898f5e1cdc0ffd1518853e310771326a0a321ec9c05a820d4258a056d71399b199ea671c9e5178a662793f16e5000cd4a0459e5467b60c23babadd \n",
      "hash: 0x9f186d11b6798be8d8891d91dd2499a25226c11326e3a982a5334ba3bd0019e7\n",
      "r: 57773804179222982042696184476984204728229260505367664480200619265581248234072\n",
      "v: 27\n",
      "s: 39278912373844283971123851986429032605679410223805379456771318434174535908061\n"
     ]
    }
   ],
   "source": [
    "signed_tx = web3.eth.account.signTransaction(tx,privateKey1)\n",
    "print(f\"rawTransaction: {signed_tx['rawTransaction'].hex()} \\nhash: {signed_tx['hash'].hex()}\\nr: {signed_tx['r']}\\nv: {signed_tx['v']}\\ns: {signed_tx['s']}\")"
   ]
  },
  {
   "cell_type": "code",
   "execution_count": 110,
   "id": "a27fb8a9",
   "metadata": {},
   "outputs": [
    {
     "name": "stdout",
     "output_type": "stream",
     "text": [
      "Transaction_ID: 0x9f186d11b6798be8d8891d91dd2499a25226c11326e3a982a5334ba3bd0019e7\n"
     ]
    }
   ],
   "source": [
    "tx_hash = web3.eth.sendRawTransaction(signed_tx[\"rawTransaction\"]).hex()\n",
    "print('Transaction_ID: ' + str(tx_hash))"
   ]
  },
  {
   "cell_type": "code",
   "execution_count": 113,
   "id": "7c8a8f37",
   "metadata": {},
   "outputs": [
    {
     "data": {
      "text/plain": [
       "True"
      ]
     },
     "execution_count": 113,
     "metadata": {},
     "output_type": "execute_result"
    }
   ],
   "source": [
    "link = 'https://goerli.etherscan.io/tx/' + tx_hash\n",
    "\n",
    "import webbrowser\n",
    "\n",
    "webbrowser.open(link)"
   ]
  },
  {
   "cell_type": "markdown",
   "id": "fbc5f923",
   "metadata": {},
   "source": [
    "---"
   ]
  },
  {
   "cell_type": "markdown",
   "id": "2ae472b8",
   "metadata": {},
   "source": [
    "# 5."
   ]
  },
  {
   "cell_type": "markdown",
   "id": "4f03e56e",
   "metadata": {},
   "source": [
    "**Contract code**"
   ]
  },
  {
   "cell_type": "markdown",
   "id": "7ebbed11",
   "metadata": {},
   "source": [
    "```js\n",
    "// SPDX-License-Identifier: GPL-3.0\n",
    "\n",
    "pragma solidity >=0.7.0 <0.9.0;\n",
    "\n",
    "contract Add2Numbers {\n",
    "\n",
    "    function add(int num1, int num2) public pure returns (int) {\n",
    "        return num1 + num2;\n",
    "    }\n",
    "}\n",
    "```"
   ]
  },
  {
   "cell_type": "markdown",
   "id": "89ac65c5",
   "metadata": {},
   "source": [
    "**Link to the deployed contract from address_1:**<br> https://goerli.etherscan.io/tx/0xb0a670edd18c958cb257acd547c9d500d1f84a227fbd92d7c83d1af7df2987ca"
   ]
  },
  {
   "cell_type": "markdown",
   "id": "eb651e2f",
   "metadata": {},
   "source": [
    "**Transaction example**\n",
    "![transaction example](https://i.ibb.co/hBrFZY1/Screenshot-from-2022-10-19-13-04-41.png \"transaction example\")\n"
   ]
  },
  {
   "cell_type": "markdown",
   "id": "019c73a3",
   "metadata": {},
   "source": [
    "---"
   ]
  },
  {
   "cell_type": "markdown",
   "id": "db6f6da1",
   "metadata": {},
   "source": [
    "# 6."
   ]
  },
  {
   "cell_type": "markdown",
   "id": "1eca9aa5",
   "metadata": {},
   "source": [
    "**ERC20 smart contract:**"
   ]
  },
  {
   "cell_type": "markdown",
   "id": "b74289be",
   "metadata": {},
   "source": [
    "```js\n",
    "// SPDX-License-Identifier: Unlicense\n",
    "\n",
    "pragma solidity >=0.7.0 <0.9.0;\n",
    "\n",
    "import \"@openzeppelin/contracts/token/ERC20/ERC20.sol\";\n",
    "\n",
    "contract hundredERC20Tokens is ERC20 {\n",
    "    // address to store address of smart contract.\n",
    "    address public ownerERC;\n",
    "\n",
    "    constructor(string memory _tokenName, string memory _tokenSymbol, uint256 initialSupply) ERC20(_tokenName, _tokenSymbol) {\n",
    "        ownerERC = msg.sender;\n",
    "        _mint(msg.sender, initialSupply);\n",
    "    }\n",
    "}\n",
    "```"
   ]
  },
  {
   "cell_type": "markdown",
   "id": "41468aef",
   "metadata": {},
   "source": [
    "**Transaction Id (was deployed from address 2):**<br>\n",
    "0x53121ee50c9ec8ab431509a24156c63d043d896f61d92d7162c00a16a0ccb3ce<br>\n",
    "https://goerli.etherscan.io/tx/0x53121ee50c9ec8ab431509a24156c63d043d896f61d92d7162c00a16a0ccb3ce\n",
    "<br><br>\n",
    "**Contract address:**<br>\n",
    "0x417f4E461F51c9c120BF7BCe96EbAf7cB89575f3\n",
    "<br><br>\n",
    "**3 letters abbreviation of my coin:**<br>\n",
    "SYR\n",
    "<br><br>\n",
    "**Transaction Id, where 10 SYR were sent to this address &rarr; 0x7F0623b3Ed830BF5e7CE54A8a3cE7676779522F9:**<br>\n",
    "0x4b3471c9160c4ec3e5d27a8735b36908ceae1b22cc21bc08796891eb11deb6fa<br>\n",
    "https://goerli.etherscan.io/tx/0x4b3471c9160c4ec3e5d27a8735b36908ceae1b22cc21bc08796891eb11deb6fa"
   ]
  },
  {
   "cell_type": "code",
   "execution_count": null,
   "id": "2154d021",
   "metadata": {},
   "outputs": [],
   "source": []
  }
 ],
 "metadata": {
  "kernelspec": {
   "display_name": "Python 3 (ipykernel)",
   "language": "python",
   "name": "python3"
  },
  "language_info": {
   "codemirror_mode": {
    "name": "ipython",
    "version": 3
   },
   "file_extension": ".py",
   "mimetype": "text/x-python",
   "name": "python",
   "nbconvert_exporter": "python",
   "pygments_lexer": "ipython3",
   "version": "3.10.6"
  }
 },
 "nbformat": 4,
 "nbformat_minor": 5
}

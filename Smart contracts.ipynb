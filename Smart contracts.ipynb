{
 "cells": [
  {
   "cell_type": "markdown",
   "id": "36da76c3",
   "metadata": {},
   "source": [
    "# HW6, Yanal Yanal"
   ]
  },
  {
   "cell_type": "code",
   "execution_count": 1,
   "id": "255a2273",
   "metadata": {},
   "outputs": [],
   "source": [
    "Address_1 = {\n",
    "    'priv_key': '72d411a2fc4615bed519ce36fedc2e9b2331f3ec5428b92e09fb642349080d08',\n",
    "    'pub_key': '0275aaf236bed5939c43eca511b9de7079a377789eb573675026c1d22c303028cb',\n",
    "    'textnet_add': 'mru8BYThK1g9vChwbZ5d78hjgFNyZ3zhnM',\n",
    "    'mainnet_add': '1CPAtVNiVzEu96EKsz7FHDVQpFnGdcWNeJ',\n",
    "    'account': '0x198453f033Ae30EBB410258337ebB771d9893C43'\n",
    "}\n",
    "Address_2 = {\n",
    "    'priv_key': 'd224ed5c99dbc0e62ca0b597cf6431f971a0cfd3e05d45b37f8b046bf1571658',\n",
    "    'pub_key': '02ac9ce087484217fdffab4bc93faec3a40bf789ecfc0549a76f717bd0bf3e5a44',\n",
    "    'textnet_add': 'mqH13NTaF8DaoVwQAKcMw287USGwBmGpSV',\n",
    "    'mainnet_add': '1Am3kKNbS6nL2PTnSkdz76uncSgEFCKaUK',\n",
    "    'account': '0x270B7c07c958687202A7263F13cBe68eb3341556'\n",
    "}\n",
    "Address_3 = {\n",
    "    'priv_key': '157236d5693708a083f7213d9353a19040739e851804d22066ee9a354751c5ba',\n",
    "    'pub_key': '027d431477c32721303d39f5f459599799e28d595d846f1d0825e4e77052f8e293',\n",
    "    'textnet_add': 'mzQLAD8QG7bjCHTra92shWXx1phfcHLtHZ',\n",
    "    'mainnet_add': '1KtNsA3RT6AURAzEra4VsbKd9q6xgd5aty',\n",
    "    'account': '0x5536A9102F182C007A60eb86EF4cD6A3e82C49c7'\n",
    "}"
   ]
  },
  {
   "cell_type": "markdown",
   "id": "c8888420",
   "metadata": {},
   "source": [
    "# Task 1:\n",
    "\n",
    "1.1. (1 point) Deploy ERC20 token smart contract with any reasonable parameters (like name, symbol) from address_1 and allocate (mint) assets to it. \n",
    "\n",
    "Remix and Metamask are allowed.\n",
    "\n",
    "1.2. (1 point) Write a script to\n",
    "\n",
    "(a) Send some Ethers to address_2, send some tokens to address_2. And one more time: send some Ethers to address_2, and send some tokens to address_2.\n",
    "\n",
    "(b) Again send some tokens to address_3, and send some Ethers to address_3. And one more time: send some tokens to address_3, and send some Ethers to address_3.\n",
    "\n",
    "But this time, Remix and Metamask are not allowed. Only Web3 is recommended. \n",
    "\n",
    "1.3. (2 points) Compute gas consumption per transaction from 1.1 and 1.2 with scripts. Check if all the transactions are successful (blockchain applied changes from the transaction) with scripts. Remix and Metamask are not allowed. Only Web3 is recommended."
   ]
  },
  {
   "cell_type": "markdown",
   "id": "08c81934",
   "metadata": {},
   "source": [
    "### 1.1\n",
    "**TX: 0x23168a78846e2c2b3d18a7be13f606779377f1a80843cdb41ce94e7b34158a92**"
   ]
  },
  {
   "cell_type": "code",
   "execution_count": null,
   "id": "8f717838",
   "metadata": {},
   "outputs": [],
   "source": [
    "'''\n",
    "// SPDX-License-Identifier: MIT\n",
    "pragma solidity ^0.8.9;\n",
    "\n",
    "import \"@openzeppelin/contracts@4.8.2/token/ERC20/ERC20.sol\";\n",
    "import \"@openzeppelin/contracts@4.8.2/access/Ownable.sol\";\n",
    "\n",
    "contract HW6 is ERC20, Ownable {\n",
    "        // address to store address of smart contract.\n",
    "    address public ownerERC;\n",
    "\n",
    "    constructor(string memory _tokenName, string memory _tokenSymbol, uint256 initialSupply) ERC20(_tokenName, _tokenSymbol) {\n",
    "        ownerERC = msg.sender;\n",
    "        _mint(msg.sender, initialSupply);\n",
    "    }\n",
    "\n",
    "    function mint(address to, uint256 amount) public onlyOwner {\n",
    "        _mint(to, amount);\n",
    "    }\n",
    "}\n",
    "\n",
    "'''"
   ]
  },
  {
   "cell_type": "markdown",
   "id": "978609d7",
   "metadata": {},
   "source": [
    "### 1.2"
   ]
  },
  {
   "cell_type": "code",
   "execution_count": 2,
   "id": "a20b52c5",
   "metadata": {},
   "outputs": [],
   "source": [
    "from web3 import Web3"
   ]
  },
  {
   "cell_type": "code",
   "execution_count": 3,
   "id": "397a72f8",
   "metadata": {},
   "outputs": [
    {
     "name": "stdout",
     "output_type": "stream",
     "text": [
      "Connected to Testnet: True\n"
     ]
    }
   ],
   "source": [
    "testnet_url = \"https://goerli.infura.io/v3/bca3c892204949beb44a2859bc7bfe21\"\n",
    "\n",
    "web3 = Web3(Web3.HTTPProvider(testnet_url))\n",
    "print(\"Connected to Testnet:\",web3.isConnected())"
   ]
  },
  {
   "cell_type": "code",
   "execution_count": 4,
   "id": "475340f7",
   "metadata": {},
   "outputs": [],
   "source": [
    "contract_address = '0x721c259cCaA912e459b6C8d51fFD1ff0eef4fB92'\n",
    "contract_abi = '[ { \"inputs\": [ { \"internalType\": \"string\", \"name\": \"_tokenName\", \"type\": \"string\" }, { \"internalType\": \"string\", \"name\": \"_tokenSymbol\", \"type\": \"string\" }, { \"internalType\": \"uint256\", \"name\": \"initialSupply\", \"type\": \"uint256\" } ], \"stateMutability\": \"nonpayable\", \"type\": \"constructor\" }, { \"anonymous\": false, \"inputs\": [ { \"indexed\": true, \"internalType\": \"address\", \"name\": \"owner\", \"type\": \"address\" }, { \"indexed\": true, \"internalType\": \"address\", \"name\": \"spender\", \"type\": \"address\" }, { \"indexed\": false, \"internalType\": \"uint256\", \"name\": \"value\", \"type\": \"uint256\" } ], \"name\": \"Approval\", \"type\": \"event\" }, { \"anonymous\": false, \"inputs\": [ { \"indexed\": true, \"internalType\": \"address\", \"name\": \"previousOwner\", \"type\": \"address\" }, { \"indexed\": true, \"internalType\": \"address\", \"name\": \"newOwner\", \"type\": \"address\" } ], \"name\": \"OwnershipTransferred\", \"type\": \"event\" }, { \"anonymous\": false, \"inputs\": [ { \"indexed\": true, \"internalType\": \"address\", \"name\": \"from\", \"type\": \"address\" }, { \"indexed\": true, \"internalType\": \"address\", \"name\": \"to\", \"type\": \"address\" }, { \"indexed\": false, \"internalType\": \"uint256\", \"name\": \"value\", \"type\": \"uint256\" } ], \"name\": \"Transfer\", \"type\": \"event\" }, { \"inputs\": [ { \"internalType\": \"address\", \"name\": \"owner\", \"type\": \"address\" }, { \"internalType\": \"address\", \"name\": \"spender\", \"type\": \"address\" } ], \"name\": \"allowance\", \"outputs\": [ { \"internalType\": \"uint256\", \"name\": \"\", \"type\": \"uint256\" } ], \"stateMutability\": \"view\", \"type\": \"function\" }, { \"inputs\": [ { \"internalType\": \"address\", \"name\": \"spender\", \"type\": \"address\" }, { \"internalType\": \"uint256\", \"name\": \"amount\", \"type\": \"uint256\" } ], \"name\": \"approve\", \"outputs\": [ { \"internalType\": \"bool\", \"name\": \"\", \"type\": \"bool\" } ], \"stateMutability\": \"nonpayable\", \"type\": \"function\" }, { \"inputs\": [ { \"internalType\": \"address\", \"name\": \"account\", \"type\": \"address\" } ], \"name\": \"balanceOf\", \"outputs\": [ { \"internalType\": \"uint256\", \"name\": \"\", \"type\": \"uint256\" } ], \"stateMutability\": \"view\", \"type\": \"function\" }, { \"inputs\": [], \"name\": \"decimals\", \"outputs\": [ { \"internalType\": \"uint8\", \"name\": \"\", \"type\": \"uint8\" } ], \"stateMutability\": \"view\", \"type\": \"function\" }, { \"inputs\": [ { \"internalType\": \"address\", \"name\": \"spender\", \"type\": \"address\" }, { \"internalType\": \"uint256\", \"name\": \"subtractedValue\", \"type\": \"uint256\" } ], \"name\": \"decreaseAllowance\", \"outputs\": [ { \"internalType\": \"bool\", \"name\": \"\", \"type\": \"bool\" } ], \"stateMutability\": \"nonpayable\", \"type\": \"function\" }, { \"inputs\": [ { \"internalType\": \"address\", \"name\": \"spender\", \"type\": \"address\" }, { \"internalType\": \"uint256\", \"name\": \"addedValue\", \"type\": \"uint256\" } ], \"name\": \"increaseAllowance\", \"outputs\": [ { \"internalType\": \"bool\", \"name\": \"\", \"type\": \"bool\" } ], \"stateMutability\": \"nonpayable\", \"type\": \"function\" }, { \"inputs\": [ { \"internalType\": \"address\", \"name\": \"to\", \"type\": \"address\" }, { \"internalType\": \"uint256\", \"name\": \"amount\", \"type\": \"uint256\" } ], \"name\": \"mint\", \"outputs\": [], \"stateMutability\": \"nonpayable\", \"type\": \"function\" }, { \"inputs\": [], \"name\": \"name\", \"outputs\": [ { \"internalType\": \"string\", \"name\": \"\", \"type\": \"string\" } ], \"stateMutability\": \"view\", \"type\": \"function\" }, { \"inputs\": [], \"name\": \"owner\", \"outputs\": [ { \"internalType\": \"address\", \"name\": \"\", \"type\": \"address\" } ], \"stateMutability\": \"view\", \"type\": \"function\" }, { \"inputs\": [], \"name\": \"ownerERC\", \"outputs\": [ { \"internalType\": \"address\", \"name\": \"\", \"type\": \"address\" } ], \"stateMutability\": \"view\", \"type\": \"function\" }, { \"inputs\": [], \"name\": \"renounceOwnership\", \"outputs\": [], \"stateMutability\": \"nonpayable\", \"type\": \"function\" }, { \"inputs\": [], \"name\": \"symbol\", \"outputs\": [ { \"internalType\": \"string\", \"name\": \"\", \"type\": \"string\" } ], \"stateMutability\": \"view\", \"type\": \"function\" }, { \"inputs\": [], \"name\": \"totalSupply\", \"outputs\": [ { \"internalType\": \"uint256\", \"name\": \"\", \"type\": \"uint256\" } ], \"stateMutability\": \"view\", \"type\": \"function\" }, { \"inputs\": [ { \"internalType\": \"address\", \"name\": \"to\", \"type\": \"address\" }, { \"internalType\": \"uint256\", \"name\": \"amount\", \"type\": \"uint256\" } ], \"name\": \"transfer\", \"outputs\": [ { \"internalType\": \"bool\", \"name\": \"\", \"type\": \"bool\" } ], \"stateMutability\": \"nonpayable\", \"type\": \"function\" }, { \"inputs\": [ { \"internalType\": \"address\", \"name\": \"from\", \"type\": \"address\" }, { \"internalType\": \"address\", \"name\": \"to\", \"type\": \"address\" }, { \"internalType\": \"uint256\", \"name\": \"amount\", \"type\": \"uint256\" } ], \"name\": \"transferFrom\", \"outputs\": [ { \"internalType\": \"bool\", \"name\": \"\", \"type\": \"bool\" } ], \"stateMutability\": \"nonpayable\", \"type\": \"function\" }, { \"inputs\": [ { \"internalType\": \"address\", \"name\": \"newOwner\", \"type\": \"address\" } ], \"name\": \"transferOwnership\", \"outputs\": [], \"stateMutability\": \"nonpayable\", \"type\": \"function\" } ]'\n"
   ]
  },
  {
   "cell_type": "code",
   "execution_count": 5,
   "id": "42c4fad0",
   "metadata": {},
   "outputs": [],
   "source": [
    "contract_instance = web3.eth.contract(address = contract_address, abi = contract_abi)"
   ]
  },
  {
   "cell_type": "code",
   "execution_count": 6,
   "id": "c86f78e1",
   "metadata": {},
   "outputs": [
    {
     "data": {
      "text/plain": [
       "10000000000000000000"
      ]
     },
     "execution_count": 6,
     "metadata": {},
     "output_type": "execute_result"
    }
   ],
   "source": [
    "contract_instance.functions.totalSupply().call()"
   ]
  },
  {
   "cell_type": "code",
   "execution_count": 7,
   "id": "64cd0114",
   "metadata": {},
   "outputs": [
    {
     "data": {
      "text/plain": [
       "10000000000000000000"
      ]
     },
     "execution_count": 7,
     "metadata": {},
     "output_type": "execute_result"
    }
   ],
   "source": [
    "contract_instance.functions.balanceOf(Address_1['account']).call()"
   ]
  },
  {
   "cell_type": "markdown",
   "id": "503c8667",
   "metadata": {},
   "source": [
    " ### Sending Ethers to address 2"
   ]
  },
  {
   "cell_type": "code",
   "execution_count": 22,
   "id": "e053fc2c",
   "metadata": {},
   "outputs": [],
   "source": [
    "nonce = web3.eth.getTransactionCount(Address_1['account'])"
   ]
  },
  {
   "cell_type": "code",
   "execution_count": 23,
   "id": "bfdb08c0",
   "metadata": {},
   "outputs": [
    {
     "name": "stdout",
     "output_type": "stream",
     "text": [
      "Ethers: 0.000001\n"
     ]
    }
   ],
   "source": [
    "tx = {\n",
    "      'nonce':nonce,\n",
    "      #'from': account_1,\n",
    "      'to': Address_2['account'],\n",
    "      'value': web3.toWei(float(input(\"Ethers: \")),'ether'),\n",
    "      'gas':200000,\n",
    "      'gasPrice':web3.toWei('50','gwei')\n",
    "      }"
   ]
  },
  {
   "cell_type": "code",
   "execution_count": 24,
   "id": "a10db8d9",
   "metadata": {},
   "outputs": [
    {
     "data": {
      "text/plain": [
       "{'nonce': 3,\n",
       " 'to': '0x270B7c07c958687202A7263F13cBe68eb3341556',\n",
       " 'value': 1000000000000,\n",
       " 'gas': 200000,\n",
       " 'gasPrice': 50000000000}"
      ]
     },
     "execution_count": 24,
     "metadata": {},
     "output_type": "execute_result"
    }
   ],
   "source": [
    "tx"
   ]
  },
  {
   "cell_type": "code",
   "execution_count": 25,
   "id": "9e4f69f4",
   "metadata": {},
   "outputs": [
    {
     "name": "stdout",
     "output_type": "stream",
     "text": [
      "rawTransaction: 0xf86a03850ba43b740083030d4094270b7c07c958687202a7263f13cbe68eb334155685e8d4a51000801ba0ffd8268957fe78ccc6c9838a6d8e817aec8b312b9669c7601d3a0eab1dba227ca00a5b43a3ae3971afcb63796383d6fe493654a2c2b5c22d1e33e4ecce35aaf351 \n",
      "hash: 0x633b55e92826606526976fc50d0dd5dd29a0d185d82e8c6e7066177dab90754a\n",
      "r: 115721681323865784523971911486800531462856305441919437757361795502150952559228\n",
      "v: 27\n",
      "s: 4684378398552008448803022213751990830104507263836633786030850505008640357201\n"
     ]
    }
   ],
   "source": [
    "signed_tx = web3.eth.account.signTransaction(tx,Address_1['priv_key'])\n",
    "print(f\"rawTransaction: {signed_tx['rawTransaction'].hex()} \\nhash: {signed_tx['hash'].hex()}\\nr: {signed_tx['r']}\\nv: {signed_tx['v']}\\ns: {signed_tx['s']}\")"
   ]
  },
  {
   "cell_type": "code",
   "execution_count": 26,
   "id": "b50d29bf",
   "metadata": {},
   "outputs": [
    {
     "name": "stdout",
     "output_type": "stream",
     "text": [
      "Transaction_ID: 0x633b55e92826606526976fc50d0dd5dd29a0d185d82e8c6e7066177dab90754a\n"
     ]
    }
   ],
   "source": [
    "tx_hash = web3.eth.sendRawTransaction(signed_tx[\"rawTransaction\"]).hex()\n",
    "print('Transaction_ID: ' + str(tx_hash))"
   ]
  },
  {
   "cell_type": "code",
   "execution_count": 27,
   "id": "d1a5fdf6",
   "metadata": {},
   "outputs": [
    {
     "data": {
      "text/plain": [
       "True"
      ]
     },
     "execution_count": 27,
     "metadata": {},
     "output_type": "execute_result"
    }
   ],
   "source": [
    "link = 'https://goerli.etherscan.io/tx/' + tx_hash\n",
    "import webbrowser\n",
    "webbrowser.open(link)"
   ]
  },
  {
   "cell_type": "markdown",
   "id": "500b522e",
   "metadata": {},
   "source": [
    " ### Sending Ethers to address 3"
   ]
  },
  {
   "cell_type": "code",
   "execution_count": 36,
   "id": "26fd8708",
   "metadata": {},
   "outputs": [],
   "source": [
    "nonce = web3.eth.getTransactionCount(Address_1['account'])"
   ]
  },
  {
   "cell_type": "code",
   "execution_count": 37,
   "id": "680727e5",
   "metadata": {},
   "outputs": [
    {
     "name": "stdout",
     "output_type": "stream",
     "text": [
      "Ethers: 0.0001\n"
     ]
    }
   ],
   "source": [
    "tx = {\n",
    "      'nonce':nonce,\n",
    "      #'from': account_1,\n",
    "      'to': Address_3['account'],\n",
    "      'value': web3.toWei(float(input(\"Ethers: \")),'ether'),\n",
    "      'gas':200000,\n",
    "      'gasPrice':web3.toWei('50','gwei')\n",
    "      }"
   ]
  },
  {
   "cell_type": "code",
   "execution_count": 38,
   "id": "72df33b3",
   "metadata": {},
   "outputs": [
    {
     "data": {
      "text/plain": [
       "{'nonce': 7,\n",
       " 'to': '0x5536A9102F182C007A60eb86EF4cD6A3e82C49c7',\n",
       " 'value': 100000000000000,\n",
       " 'gas': 200000,\n",
       " 'gasPrice': 50000000000}"
      ]
     },
     "execution_count": 38,
     "metadata": {},
     "output_type": "execute_result"
    }
   ],
   "source": [
    "tx"
   ]
  },
  {
   "cell_type": "code",
   "execution_count": 39,
   "id": "f5ea5323",
   "metadata": {},
   "outputs": [
    {
     "name": "stdout",
     "output_type": "stream",
     "text": [
      "rawTransaction: 0xf86b07850ba43b740083030d40945536a9102f182c007a60eb86ef4cd6a3e82c49c7865af3107a4000801ba0335f47870eb393c6d8949556f85950c5982eecaf4693f66ba88d86682248c2a0a07d8afb176e15a2aff290a178c5b0be267f4ded8a6cfee11b9383c5e4b5b7e9bb \n",
      "hash: 0xe69d509c855e64b1f6c3ff755fe7f3d77e6182336124fb79d4f03510780e4433\n",
      "r: 23236299414032200394084335889884901025061806647113842554246648532948423852704\n",
      "v: 27\n",
      "s: 56784663937852785770994252605385569945971313188204875537374010039842553457083\n"
     ]
    }
   ],
   "source": [
    "signed_tx = web3.eth.account.signTransaction(tx,Address_1['priv_key'])\n",
    "print(f\"rawTransaction: {signed_tx['rawTransaction'].hex()} \\nhash: {signed_tx['hash'].hex()}\\nr: {signed_tx['r']}\\nv: {signed_tx['v']}\\ns: {signed_tx['s']}\")"
   ]
  },
  {
   "cell_type": "code",
   "execution_count": 40,
   "id": "90ba4452",
   "metadata": {},
   "outputs": [
    {
     "name": "stdout",
     "output_type": "stream",
     "text": [
      "Transaction_ID: 0xe69d509c855e64b1f6c3ff755fe7f3d77e6182336124fb79d4f03510780e4433\n"
     ]
    }
   ],
   "source": [
    "tx_hash = web3.eth.sendRawTransaction(signed_tx[\"rawTransaction\"]).hex()\n",
    "print('Transaction_ID: ' + str(tx_hash))"
   ]
  },
  {
   "cell_type": "code",
   "execution_count": 41,
   "id": "90267d35",
   "metadata": {},
   "outputs": [
    {
     "data": {
      "text/plain": [
       "True"
      ]
     },
     "execution_count": 41,
     "metadata": {},
     "output_type": "execute_result"
    }
   ],
   "source": [
    "link = 'https://goerli.etherscan.io/tx/' + tx_hash\n",
    "import webbrowser\n",
    "webbrowser.open(link)"
   ]
  },
  {
   "cell_type": "markdown",
   "id": "ba7fb683",
   "metadata": {},
   "source": [
    "---\n",
    "### Sending tokens to address 2"
   ]
  },
  {
   "cell_type": "code",
   "execution_count": 20,
   "id": "9db36a2f",
   "metadata": {
    "scrolled": true
   },
   "outputs": [
    {
     "data": {
      "text/plain": [
       "9999999000000000000"
      ]
     },
     "execution_count": 20,
     "metadata": {},
     "output_type": "execute_result"
    }
   ],
   "source": [
    "contract_instance.functions.balanceOf(Address_1['account']).call()"
   ]
  },
  {
   "cell_type": "code",
   "execution_count": 21,
   "id": "8e2e273c",
   "metadata": {},
   "outputs": [
    {
     "data": {
      "text/plain": [
       "5"
      ]
     },
     "execution_count": 21,
     "metadata": {},
     "output_type": "execute_result"
    }
   ],
   "source": [
    "nonce = web3.eth.getTransactionCount(Address_1['account'])\n",
    "nonce"
   ]
  },
  {
   "cell_type": "code",
   "execution_count": 22,
   "id": "682f2e2a",
   "metadata": {},
   "outputs": [],
   "source": [
    "tx_ = contract_instance.functions.transfer(Address_2['account'], web3.toWei(1, 'ether')).buildTransaction({\n",
    "    'nonce': nonce,\n",
    "    'gas': 200000,\n",
    "    'gasPrice': web3.eth.gas_price\n",
    "})\n"
   ]
  },
  {
   "cell_type": "code",
   "execution_count": 23,
   "id": "c2cfed93",
   "metadata": {},
   "outputs": [],
   "source": [
    "sign_tx = web3.eth.account.sign_transaction(tx_, Address_1['priv_key'])\n"
   ]
  },
  {
   "cell_type": "code",
   "execution_count": 24,
   "id": "f7f28e32",
   "metadata": {},
   "outputs": [],
   "source": [
    "tx_hash = web3.eth.sendRawTransaction(sign_tx.rawTransaction).hex()"
   ]
  },
  {
   "cell_type": "code",
   "execution_count": 25,
   "id": "1dad24c8",
   "metadata": {},
   "outputs": [
    {
     "data": {
      "text/plain": [
       "'0xb1325fbdc9d781c6776de367925bc658ab16dae4d3a0a19beddf19ee73582994'"
      ]
     },
     "execution_count": 25,
     "metadata": {},
     "output_type": "execute_result"
    }
   ],
   "source": [
    "tx_hash"
   ]
  },
  {
   "cell_type": "code",
   "execution_count": 26,
   "id": "eea2200c",
   "metadata": {},
   "outputs": [
    {
     "data": {
      "text/plain": [
       "True"
      ]
     },
     "execution_count": 26,
     "metadata": {},
     "output_type": "execute_result"
    }
   ],
   "source": [
    "link = 'https://goerli.etherscan.io/tx/' + tx_hash\n",
    "import webbrowser\n",
    "webbrowser.open(link)"
   ]
  },
  {
   "cell_type": "markdown",
   "id": "83affc72",
   "metadata": {},
   "source": [
    "---\n",
    "### sending tokens to address 3"
   ]
  },
  {
   "cell_type": "code",
   "execution_count": 27,
   "id": "c053bfb5",
   "metadata": {
    "scrolled": true
   },
   "outputs": [
    {
     "data": {
      "text/plain": [
       "8999999000000000000"
      ]
     },
     "execution_count": 27,
     "metadata": {},
     "output_type": "execute_result"
    }
   ],
   "source": [
    "contract_instance.functions.balanceOf(Address_1['account']).call()"
   ]
  },
  {
   "cell_type": "code",
   "execution_count": 28,
   "id": "9ae159e6",
   "metadata": {},
   "outputs": [
    {
     "data": {
      "text/plain": [
       "6"
      ]
     },
     "execution_count": 28,
     "metadata": {},
     "output_type": "execute_result"
    }
   ],
   "source": [
    "nonce = web3.eth.getTransactionCount(Address_1['account'])\n",
    "nonce"
   ]
  },
  {
   "cell_type": "code",
   "execution_count": 29,
   "id": "a088860c",
   "metadata": {},
   "outputs": [],
   "source": [
    "tx_ = contract_instance.functions.transfer(Address_3['account'], web3.toWei(1, 'ether')).buildTransaction({\n",
    "    'nonce': nonce,\n",
    "    'gas': 200000,\n",
    "    'gasPrice': web3.eth.gas_price\n",
    "})\n"
   ]
  },
  {
   "cell_type": "code",
   "execution_count": 30,
   "id": "0739ed1c",
   "metadata": {},
   "outputs": [],
   "source": [
    "sign_tx = web3.eth.account.sign_transaction(tx_, Address_1['priv_key'])\n"
   ]
  },
  {
   "cell_type": "code",
   "execution_count": 31,
   "id": "6d87da50",
   "metadata": {},
   "outputs": [],
   "source": [
    "tx_hash = web3.eth.sendRawTransaction(sign_tx.rawTransaction).hex()"
   ]
  },
  {
   "cell_type": "code",
   "execution_count": 32,
   "id": "9fbbf343",
   "metadata": {},
   "outputs": [
    {
     "data": {
      "text/plain": [
       "'0xc6c2a7205abea7d60b758d82a0ca8db8c8af5933a408e614c4b642326df7e985'"
      ]
     },
     "execution_count": 32,
     "metadata": {},
     "output_type": "execute_result"
    }
   ],
   "source": [
    "tx_hash"
   ]
  },
  {
   "cell_type": "code",
   "execution_count": 33,
   "id": "8bde184d",
   "metadata": {},
   "outputs": [
    {
     "data": {
      "text/plain": [
       "True"
      ]
     },
     "execution_count": 33,
     "metadata": {},
     "output_type": "execute_result"
    }
   ],
   "source": [
    "link = 'https://goerli.etherscan.io/tx/' + tx_hash\n",
    "import webbrowser\n",
    "webbrowser.open(link)"
   ]
  },
  {
   "cell_type": "markdown",
   "id": "7a8593b0",
   "metadata": {},
   "source": [
    "### 1.3."
   ]
  },
  {
   "cell_type": "markdown",
   "id": "da949262",
   "metadata": {},
   "source": [
    "### Gas consumption per transaction from 1.1 and 1.2 "
   ]
  },
  {
   "cell_type": "code",
   "execution_count": 50,
   "id": "af6473d4",
   "metadata": {},
   "outputs": [],
   "source": [
    "tx_hashs = [\n",
    "    '0x23168a78846e2c2b3d18a7be13f606779377f1a80843cdb41ce94e7b34158a92',\n",
    "    '0x633b55e92826606526976fc50d0dd5dd29a0d185d82e8c6e7066177dab90754a',\n",
    "    '0xe69d509c855e64b1f6c3ff755fe7f3d77e6182336124fb79d4f03510780e4433',\n",
    "    '0xb1325fbdc9d781c6776de367925bc658ab16dae4d3a0a19beddf19ee73582994',\n",
    "    '0xc6c2a7205abea7d60b758d82a0ca8db8c8af5933a408e614c4b642326df7e985',\n",
    "]"
   ]
  },
  {
   "cell_type": "code",
   "execution_count": 51,
   "id": "c75039ee",
   "metadata": {},
   "outputs": [
    {
     "name": "stdout",
     "output_type": "stream",
     "text": [
      "0x23168a78846e2c2b3d18a7be13f606779377f1a80843cdb41ce94e7b34158a92: Gas consumption = 1560637, Status = 1\n",
      "0x633b55e92826606526976fc50d0dd5dd29a0d185d82e8c6e7066177dab90754a: Gas consumption = 21000, Status = 1\n",
      "0xe69d509c855e64b1f6c3ff755fe7f3d77e6182336124fb79d4f03510780e4433: Gas consumption = 21000, Status = 1\n",
      "0xb1325fbdc9d781c6776de367925bc658ab16dae4d3a0a19beddf19ee73582994: Gas consumption = 35055, Status = 1\n",
      "0xc6c2a7205abea7d60b758d82a0ca8db8c8af5933a408e614c4b642326df7e985: Gas consumption = 52143, Status = 1\n"
     ]
    }
   ],
   "source": [
    "for tx_hash in tx_hashs:\n",
    "    receipt = web3.eth.waitForTransactionReceipt(tx_hash)\n",
    "    print(tx_hash + ': Gas consumption = ' + str(receipt.gasUsed) + ', Status = ' + str(receipt.status))\n"
   ]
  },
  {
   "cell_type": "code",
   "execution_count": null,
   "id": "57a2f4ee",
   "metadata": {},
   "outputs": [],
   "source": []
  },
  {
   "cell_type": "markdown",
   "id": "351f0265",
   "metadata": {},
   "source": [
    "# Task 2:\n",
    "\n",
    "2.1. (3 points) Write a smart contract to compute MMDLS course final grade. I.e.,\n",
    "\n",
    "(a) The contract deployer assumed to be a professor\n",
    "\n",
    "(b) The professor can input values to a mapping \"assign grades\": str student_id -> uint grades[8], where grades[8] are HA1, ..., HA6, ExamTerm1, ExamFinal.\n",
    "\n",
    "(c) The professor can call a method \"compute final grade\", which computes a mapping: str student_id -> uint final_grade, based on the MMDLS course formula: \n",
    "\n",
    "\tIntermediate=min(round((max(HA1 +HA2, 2 * ExamTerm1)  + HA3 + HA4 + HA5 + HA6) / 6), 10)\n",
    "\tIf ExamFinal > 0: final_grade = min(round(0.4 * Intermediate + 0.6 * ExamFinal), 10), else final_grade = Intermediate * I(Intermediate >= 6), where I(true) = 1 and I(false) = 0.\n",
    "2.2. (1 point) Write 5+ tests to examine different grade situations.\n",
    "\n",
    "2.3. (2 points) Test smart contract with Hardhat."
   ]
  },
  {
   "cell_type": "markdown",
   "id": "87cfbc82",
   "metadata": {},
   "source": [
    "### 2.1.\n",
    "**Tx: 0x7cbd37e9a845d71a4cc8d882fc66bd54449cfad115c82cd8bad7efa5baa8fd71**<br>\n",
    "**Contract address: 0xc3496Eb0d18B86a65C2f6CC395b8F93542Ee3Dc0**"
   ]
  },
  {
   "cell_type": "code",
   "execution_count": null,
   "id": "15497007",
   "metadata": {},
   "outputs": [],
   "source": [
    "'''\n",
    "// SPDX-License-Identifier: GPL-3.0\n",
    "\n",
    "pragma solidity ^0.8.0;\n",
    "\n",
    "import \"https://github.com/OpenZeppelin/openzeppelin-contracts/blob/master/contracts/utils/math/SafeMath.sol\";\n",
    "import \"@openzeppelin/contracts/utils/Strings.sol\";\n",
    "\n",
    "contract StudentGrades {\n",
    "    mapping(string => uint8[8]) internal studentGrades;\n",
    "    string[] studentIds;\n",
    "\n",
    "    function addGrade(\n",
    "        string memory studentId,\n",
    "        uint8 HA1,\n",
    "        uint8 HA2,\n",
    "        uint8 HA3,\n",
    "        uint8 HA4,\n",
    "        uint8 HA5,\n",
    "        uint8 HA6,\n",
    "        uint8 ExamTerm1,\n",
    "        uint8 ExamFinal\n",
    "    ) public returns (string memory) {\n",
    "        studentIds.push(studentId);\n",
    "        studentGrades[studentId] = [\n",
    "            HA1,\n",
    "            HA2,\n",
    "            HA3,\n",
    "            HA4,\n",
    "            HA5,\n",
    "            HA6,\n",
    "            ExamTerm1,\n",
    "            ExamFinal\n",
    "        ];\n",
    "        return \"Added\";\n",
    "    }\n",
    "\n",
    "    function getGrades() public view returns (string memory) {\n",
    "        string memory ans;\n",
    "        for (uint256 i = 0; i < studentIds.length; i++) {\n",
    "            ans = string(\n",
    "                abi.encodePacked(\n",
    "                    ans,\n",
    "                    studentIds[i],\n",
    "                    \"-> \",\n",
    "                    Strings.toString(\n",
    "                        calculateGrade(studentGrades[studentIds[i]])\n",
    "                    ),\n",
    "                    \", \"\n",
    "                )\n",
    "            );\n",
    "        }\n",
    "        return ans;\n",
    "    }\n",
    "\n",
    "    function getGradeById(string memory studentId) public view returns (uint8) {\n",
    "        return calculateGrade(studentGrades[studentId]);\n",
    "    }\n",
    "\n",
    "    function calculateGrade(uint8[8] memory grades)\n",
    "        internal\n",
    "        pure\n",
    "        returns (uint8)\n",
    "    {\n",
    "        uint8 Intermediate = SafeMath.min(\n",
    "            SafeMath.div(\n",
    "                (SafeMath.max(grades[0] + grades[1], 2 * grades[6]) +\n",
    "                    grades[2] +\n",
    "                    grades[3] +\n",
    "                    grades[4] +\n",
    "                    grades[5]),\n",
    "                6\n",
    "            ),\n",
    "            10\n",
    "        );\n",
    "        if (grades[7] > 0) {\n",
    "            return\n",
    "                SafeMath.min(\n",
    "                    SafeMath.div(4 * Intermediate, 10) +\n",
    "                        SafeMath.div(6 * grades[7], 10),\n",
    "                    10\n",
    "                );\n",
    "        } else {\n",
    "            uint8 I = Intermediate >= 6 ? 1 : 0;\n",
    "            return Intermediate * I;\n",
    "        }\n",
    "    }\n",
    "}\n",
    "\n",
    "'''"
   ]
  },
  {
   "cell_type": "markdown",
   "id": "2db5d0f8",
   "metadata": {},
   "source": [
    "---\n",
    "### 2.2."
   ]
  },
  {
   "cell_type": "code",
   "execution_count": 59,
   "id": "33444068",
   "metadata": {},
   "outputs": [],
   "source": [
    "contract_address_2 = '0xc3496Eb0d18B86a65C2f6CC395b8F93542Ee3Dc0'\n",
    "contract_abi_2 = '[ { \"inputs\": [ { \"internalType\": \"string\", \"name\": \"studentId\", \"type\": \"string\" }, { \"internalType\": \"uint8\", \"name\": \"HA1\", \"type\": \"uint8\" }, { \"internalType\": \"uint8\", \"name\": \"HA2\", \"type\": \"uint8\" }, { \"internalType\": \"uint8\", \"name\": \"HA3\", \"type\": \"uint8\" }, { \"internalType\": \"uint8\", \"name\": \"HA4\", \"type\": \"uint8\" }, { \"internalType\": \"uint8\", \"name\": \"HA5\", \"type\": \"uint8\" }, { \"internalType\": \"uint8\", \"name\": \"HA6\", \"type\": \"uint8\" }, { \"internalType\": \"uint8\", \"name\": \"ExamTerm1\", \"type\": \"uint8\" }, { \"internalType\": \"uint8\", \"name\": \"ExamFinal\", \"type\": \"uint8\" } ], \"name\": \"addGrade\", \"outputs\": [ { \"internalType\": \"string\", \"name\": \"\", \"type\": \"string\" } ], \"stateMutability\": \"nonpayable\", \"type\": \"function\" }, { \"inputs\": [ { \"internalType\": \"string\", \"name\": \"studentId\", \"type\": \"string\" } ], \"name\": \"getGradeById\", \"outputs\": [ { \"internalType\": \"uint8\", \"name\": \"\", \"type\": \"uint8\" } ], \"stateMutability\": \"view\", \"type\": \"function\" }, { \"inputs\": [], \"name\": \"getGrades\", \"outputs\": [ { \"internalType\": \"string\", \"name\": \"\", \"type\": \"string\" } ], \"stateMutability\": \"view\", \"type\": \"function\" } ]'"
   ]
  },
  {
   "cell_type": "code",
   "execution_count": 60,
   "id": "c6d9b81e",
   "metadata": {},
   "outputs": [],
   "source": [
    "contract_instance_2 = web3.eth.contract(address = contract_address_2, abi = contract_abi_2)"
   ]
  },
  {
   "cell_type": "code",
   "execution_count": 61,
   "id": "1d78d4a4",
   "metadata": {},
   "outputs": [
    {
     "data": {
      "text/plain": [
       "'0xa9698a2f3a3cbe7b5aef0c37701d595038ea0372117e1833cd71d1a08b090c2d'"
      ]
     },
     "execution_count": 61,
     "metadata": {},
     "output_type": "execute_result"
    }
   ],
   "source": [
    "tx_1 = contract_instance_2.functions.addGrade('A', 10, 10, 10, 10, 10, 10, 10, 0).buildTransaction({\n",
    "    'nonce': web3.eth.getTransactionCount(Address_1['account']),\n",
    "    'gas': 200000,\n",
    "    'gasPrice': web3.eth.gas_price\n",
    "})\n",
    "\n",
    "sign_tx_1 = web3.eth.account.sign_transaction(tx_1, Address_1['priv_key'])\n",
    "tx_hash_1 = web3.eth.sendRawTransaction(sign_tx_1.rawTransaction).hex()\n",
    "tx_hash_1"
   ]
  },
  {
   "cell_type": "code",
   "execution_count": 62,
   "id": "42f018d7",
   "metadata": {},
   "outputs": [
    {
     "data": {
      "text/plain": [
       "'0x8502a5023b68f3f474484e94a9e34d4ad869be29fe00ab33b10de822aa107f86'"
      ]
     },
     "execution_count": 62,
     "metadata": {},
     "output_type": "execute_result"
    }
   ],
   "source": [
    "tx_2 = contract_instance_2.functions.addGrade('B', 10, 10, 8, 9, 9, 10, 10, 0).buildTransaction({\n",
    "    'nonce': web3.eth.getTransactionCount(Address_1['account']),\n",
    "    'gas': 200000,\n",
    "    'gasPrice': web3.eth.gas_price\n",
    "})\n",
    "\n",
    "sign_tx_2 = web3.eth.account.sign_transaction(tx_2, Address_1['priv_key'])\n",
    "tx_hash_2 = web3.eth.sendRawTransaction(sign_tx_2.rawTransaction).hex()\n",
    "tx_hash_2"
   ]
  },
  {
   "cell_type": "code",
   "execution_count": 63,
   "id": "5e3d4957",
   "metadata": {},
   "outputs": [
    {
     "data": {
      "text/plain": [
       "'0x1122b2b9decab4a826f3e2ad424f9eb1fa0769abefc373fef48f59cefe738acb'"
      ]
     },
     "execution_count": 63,
     "metadata": {},
     "output_type": "execute_result"
    }
   ],
   "source": [
    "tx_3 = contract_instance_2.functions.addGrade('C', 10, 10, 10, 10, 8, 0, 10, 0).buildTransaction({\n",
    "    'nonce': web3.eth.getTransactionCount(Address_1['account']),\n",
    "    'gas': 200000,\n",
    "    'gasPrice': web3.eth.gas_price\n",
    "})\n",
    "\n",
    "sign_tx_3 = web3.eth.account.sign_transaction(tx_3, Address_1['priv_key'])\n",
    "tx_hash_3 = web3.eth.sendRawTransaction(sign_tx_3.rawTransaction).hex()\n",
    "tx_hash_3"
   ]
  },
  {
   "cell_type": "code",
   "execution_count": 66,
   "id": "23053d3d",
   "metadata": {},
   "outputs": [
    {
     "data": {
      "text/plain": [
       "'0x19034e7e7b37bf80a97273849cf3679cc78810fb217be6766c09fd2c7038b343'"
      ]
     },
     "execution_count": 66,
     "metadata": {},
     "output_type": "execute_result"
    }
   ],
   "source": [
    "tx_4 = contract_instance_2.functions.addGrade('D', 10, 10, 9, 7, 0, 12, 10, 0).buildTransaction({\n",
    "    'nonce': web3.eth.getTransactionCount(Address_1['account']),\n",
    "    'gas': 200000,\n",
    "    'gasPrice': web3.eth.gas_price\n",
    "})\n",
    "\n",
    "sign_tx_4 = web3.eth.account.sign_transaction(tx_4, Address_1['priv_key'])\n",
    "tx_hash_4 = web3.eth.sendRawTransaction(sign_tx_4.rawTransaction).hex()\n",
    "tx_hash_4"
   ]
  },
  {
   "cell_type": "code",
   "execution_count": 74,
   "id": "18eebce9",
   "metadata": {},
   "outputs": [
    {
     "data": {
      "text/plain": [
       "'0xcdb2e70fb62ec0f9d2d1f213039dad41b061d464a9f7965dc339c6d994eafe77'"
      ]
     },
     "execution_count": 74,
     "metadata": {},
     "output_type": "execute_result"
    }
   ],
   "source": [
    "tx_5 = contract_instance_2.functions.addGrade('E', 6, 6, 6, 6, 6, 6, 6, 0).buildTransaction({\n",
    "    'nonce': web3.eth.getTransactionCount(Address_1['account']),\n",
    "    'gas': 200000,\n",
    "    'gasPrice': web3.eth.gas_price\n",
    "})\n",
    "\n",
    "sign_tx_5 = web3.eth.account.sign_transaction(tx_5, Address_1['priv_key'])\n",
    "tx_hash_5 = web3.eth.sendRawTransaction(sign_tx_5.rawTransaction).hex()\n",
    "tx_hash_5"
   ]
  },
  {
   "cell_type": "code",
   "execution_count": 76,
   "id": "7bcaf71a",
   "metadata": {},
   "outputs": [
    {
     "data": {
      "text/plain": [
       "'A-> 10, B-> 9, C-> 8, D-> 8, E-> 6, '"
      ]
     },
     "execution_count": 76,
     "metadata": {},
     "output_type": "execute_result"
    }
   ],
   "source": [
    "contract_instance_2.functions.getGrades().call()"
   ]
  },
  {
   "cell_type": "code",
   "execution_count": 68,
   "id": "ecf16907",
   "metadata": {},
   "outputs": [
    {
     "data": {
      "text/plain": [
       "10"
      ]
     },
     "execution_count": 68,
     "metadata": {},
     "output_type": "execute_result"
    }
   ],
   "source": [
    "contract_instance_2.functions.getGradeById('A').call()"
   ]
  },
  {
   "cell_type": "code",
   "execution_count": null,
   "id": "0feecf50",
   "metadata": {},
   "outputs": [],
   "source": []
  }
 ],
 "metadata": {
  "kernelspec": {
   "display_name": "Python 3 (ipykernel)",
   "language": "python",
   "name": "python3"
  },
  "language_info": {
   "codemirror_mode": {
    "name": "ipython",
    "version": 3
   },
   "file_extension": ".py",
   "mimetype": "text/x-python",
   "name": "python",
   "nbconvert_exporter": "python",
   "pygments_lexer": "ipython3",
   "version": "3.10.6"
  }
 },
 "nbformat": 4,
 "nbformat_minor": 5
}
